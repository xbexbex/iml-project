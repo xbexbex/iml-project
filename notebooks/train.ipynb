{
 "cells": [
  {
   "cell_type": "code",
   "execution_count": null,
   "metadata": {},
   "outputs": [],
   "source": [
    "import pandas as pd\n",
    "import numpy as np\n",
    "import sklearn\n",
    "import csv\n",
    "from sklearn.model_selection import train_test_split, GridSearchCV, StratifiedKFold\n",
    "from sklearn.ensemble import RandomForestClassifier\n",
    "from sklearn.feature_selection import SelectKBest, f_classif\n",
    "from sklearn.linear_model import LogisticRegression\n",
    "from sklearn.svm import SVC\n",
    "from sklearn.metrics import classification_report, confusion_matrix\n",
    "import matplotlib.pyplot as plt\n",
    "\n",
    "rs = 0"
   ]
  },
  {
   "cell_type": "code",
   "execution_count": 6,
   "metadata": {},
   "outputs": [
    {
     "output_type": "execute_result",
     "data": {
      "text/plain": [
       "   id        date    class4  partlybad  CO2168.mean  CO2168.std  CO2336.mean  \\\n",
       "0   1  2000-02-23  nonevent      False   380.528120    0.802001   380.371466   \n",
       "1   2  2000-03-25        Ib      False   373.128684    1.096617   372.980000   \n",
       "2   3  2000-04-06        Ib      False   372.363293    0.626329   372.245689   \n",
       "3   4  2000-04-11  nonevent      False   381.437442    7.281159   381.380405   \n",
       "4   5  2000-04-23        II      False   375.426310    3.264246   375.436524   \n",
       "\n",
       "   CO2336.std  CO242.mean  CO242.std  ...  T672.mean  T672.std   T84.mean  \\\n",
       "0    0.889550  381.816207   1.292593  ... -10.730843  1.381815 -10.282754   \n",
       "1    1.047750  373.701830   1.259198  ...  -2.095641  1.695622  -1.095864   \n",
       "2    0.615803  372.847246   0.647279  ...   0.991521  1.914186   1.846503   \n",
       "3    7.236002  381.926532   7.294374  ...   1.753414  0.340565   2.524931   \n",
       "4    3.110886  375.740215   3.274924  ...  10.940107  2.179821  11.441893   \n",
       "\n",
       "    T84.std  UV_A.mean  UV_A.std  UV_B.mean  UV_B.std   CS.mean    CS.std  \n",
       "0  1.870056   8.356761  4.534937   0.178084  0.123402  0.002546  0.000686  \n",
       "1  2.090111  12.906779  7.022300   0.333523  0.239981  0.000662  0.000210  \n",
       "2  1.954748  14.286261  9.572444   0.418313  0.344386  0.000541  0.000072  \n",
       "3  0.414255   4.945162  3.405652   0.224159  0.192014  0.003710  0.001209  \n",
       "4  3.048699  13.087014  9.771415   0.525591  0.476821  0.003680  0.002160  \n",
       "\n",
       "[5 rows x 104 columns]"
      ],
      "text/html": "<div>\n<style scoped>\n    .dataframe tbody tr th:only-of-type {\n        vertical-align: middle;\n    }\n\n    .dataframe tbody tr th {\n        vertical-align: top;\n    }\n\n    .dataframe thead th {\n        text-align: right;\n    }\n</style>\n<table border=\"1\" class=\"dataframe\">\n  <thead>\n    <tr style=\"text-align: right;\">\n      <th></th>\n      <th>id</th>\n      <th>date</th>\n      <th>class4</th>\n      <th>partlybad</th>\n      <th>CO2168.mean</th>\n      <th>CO2168.std</th>\n      <th>CO2336.mean</th>\n      <th>CO2336.std</th>\n      <th>CO242.mean</th>\n      <th>CO242.std</th>\n      <th>...</th>\n      <th>T672.mean</th>\n      <th>T672.std</th>\n      <th>T84.mean</th>\n      <th>T84.std</th>\n      <th>UV_A.mean</th>\n      <th>UV_A.std</th>\n      <th>UV_B.mean</th>\n      <th>UV_B.std</th>\n      <th>CS.mean</th>\n      <th>CS.std</th>\n    </tr>\n  </thead>\n  <tbody>\n    <tr>\n      <th>0</th>\n      <td>1</td>\n      <td>2000-02-23</td>\n      <td>nonevent</td>\n      <td>False</td>\n      <td>380.528120</td>\n      <td>0.802001</td>\n      <td>380.371466</td>\n      <td>0.889550</td>\n      <td>381.816207</td>\n      <td>1.292593</td>\n      <td>...</td>\n      <td>-10.730843</td>\n      <td>1.381815</td>\n      <td>-10.282754</td>\n      <td>1.870056</td>\n      <td>8.356761</td>\n      <td>4.534937</td>\n      <td>0.178084</td>\n      <td>0.123402</td>\n      <td>0.002546</td>\n      <td>0.000686</td>\n    </tr>\n    <tr>\n      <th>1</th>\n      <td>2</td>\n      <td>2000-03-25</td>\n      <td>Ib</td>\n      <td>False</td>\n      <td>373.128684</td>\n      <td>1.096617</td>\n      <td>372.980000</td>\n      <td>1.047750</td>\n      <td>373.701830</td>\n      <td>1.259198</td>\n      <td>...</td>\n      <td>-2.095641</td>\n      <td>1.695622</td>\n      <td>-1.095864</td>\n      <td>2.090111</td>\n      <td>12.906779</td>\n      <td>7.022300</td>\n      <td>0.333523</td>\n      <td>0.239981</td>\n      <td>0.000662</td>\n      <td>0.000210</td>\n    </tr>\n    <tr>\n      <th>2</th>\n      <td>3</td>\n      <td>2000-04-06</td>\n      <td>Ib</td>\n      <td>False</td>\n      <td>372.363293</td>\n      <td>0.626329</td>\n      <td>372.245689</td>\n      <td>0.615803</td>\n      <td>372.847246</td>\n      <td>0.647279</td>\n      <td>...</td>\n      <td>0.991521</td>\n      <td>1.914186</td>\n      <td>1.846503</td>\n      <td>1.954748</td>\n      <td>14.286261</td>\n      <td>9.572444</td>\n      <td>0.418313</td>\n      <td>0.344386</td>\n      <td>0.000541</td>\n      <td>0.000072</td>\n    </tr>\n    <tr>\n      <th>3</th>\n      <td>4</td>\n      <td>2000-04-11</td>\n      <td>nonevent</td>\n      <td>False</td>\n      <td>381.437442</td>\n      <td>7.281159</td>\n      <td>381.380405</td>\n      <td>7.236002</td>\n      <td>381.926532</td>\n      <td>7.294374</td>\n      <td>...</td>\n      <td>1.753414</td>\n      <td>0.340565</td>\n      <td>2.524931</td>\n      <td>0.414255</td>\n      <td>4.945162</td>\n      <td>3.405652</td>\n      <td>0.224159</td>\n      <td>0.192014</td>\n      <td>0.003710</td>\n      <td>0.001209</td>\n    </tr>\n    <tr>\n      <th>4</th>\n      <td>5</td>\n      <td>2000-04-23</td>\n      <td>II</td>\n      <td>False</td>\n      <td>375.426310</td>\n      <td>3.264246</td>\n      <td>375.436524</td>\n      <td>3.110886</td>\n      <td>375.740215</td>\n      <td>3.274924</td>\n      <td>...</td>\n      <td>10.940107</td>\n      <td>2.179821</td>\n      <td>11.441893</td>\n      <td>3.048699</td>\n      <td>13.087014</td>\n      <td>9.771415</td>\n      <td>0.525591</td>\n      <td>0.476821</td>\n      <td>0.003680</td>\n      <td>0.002160</td>\n    </tr>\n  </tbody>\n</table>\n<p>5 rows × 104 columns</p>\n</div>"
     },
     "metadata": {},
     "execution_count": 6
    }
   ],
   "source": [
    "df = pd.read_csv(\"../data/npf_train.csv\")\n",
    "df.head()"
   ]
  },
  {
   "cell_type": "code",
   "execution_count": 7,
   "metadata": {},
   "outputs": [],
   "source": [
    "pd.set_option('display.max_columns', None)\n",
    "pd.set_option('display.max_rows', 50)"
   ]
  },
  {
   "cell_type": "code",
   "execution_count": 8,
   "metadata": {},
   "outputs": [],
   "source": [
    "df = df.drop(columns=[\"partlybad\", \"id\"])"
   ]
  },
  {
   "cell_type": "code",
   "execution_count": 9,
   "metadata": {},
   "outputs": [
    {
     "output_type": "execute_result",
     "data": {
      "text/plain": [
       "     class4  CO2168.mean  CO2168.std  CO2336.mean  CO2336.std  CO242.mean  \\\n",
       "0  nonevent   380.528120    0.802001   380.371466    0.889550  381.816207   \n",
       "1        Ib   373.128684    1.096617   372.980000    1.047750  373.701830   \n",
       "2        Ib   372.363293    0.626329   372.245689    0.615803  372.847246   \n",
       "3  nonevent   381.437442    7.281159   381.380405    7.236002  381.926532   \n",
       "4        II   375.426310    3.264246   375.436524    3.110886  375.740215   \n",
       "\n",
       "   CO242.std  CO2504.mean  CO2504.std   Glob.mean    Glob.std  H2O168.mean  \\\n",
       "0   1.292593   380.296466    0.968884  236.605353  145.160571     2.663504   \n",
       "1   1.259198   372.910000    1.004164  252.480327  138.921953     3.253684   \n",
       "2   0.647279   372.193952    0.596289  269.981547  200.826676     4.459042   \n",
       "3   7.294374   381.381156    7.208287   68.364653   48.560722     6.613430   \n",
       "4   3.274924   375.337059    2.903780  242.192619  190.952026     7.934171   \n",
       "\n",
       "   H2O168.std  H2O336.mean  H2O336.std  H2O42.mean  H2O42.std  H2O504.mean  \\\n",
       "0    0.319427     2.695603    0.304894    2.548879   0.382813     2.694138   \n",
       "1    0.299728     3.232222    0.308108    3.299150   0.290206     3.228039   \n",
       "2    0.367894     4.422874    0.365105    4.509760   0.360563     4.409401   \n",
       "3    0.508011     6.568035    0.498439    6.627225   0.517847     6.579017   \n",
       "4    0.326185     7.882727    0.302425    8.106183   0.368029     7.859840   \n",
       "\n",
       "   H2O504.std  H2O672.mean  H2O672.std  H2O84.mean  H2O84.std    NET.mean  \\\n",
       "0    0.306606     2.771071    0.366386    2.613362   0.348996   81.699876   \n",
       "1    0.310416     3.227712    0.307517    3.267582   0.298119  142.534162   \n",
       "2    0.359296     4.395988    0.357929    4.462515   0.362899  156.409709   \n",
       "3    0.469558     6.566474    0.454360    6.620694   0.527051   53.752882   \n",
       "4    0.299242     7.843690    0.295740    7.997957   0.350785  160.373121   \n",
       "\n",
       "      NET.std  NO168.mean  NO168.std  NO336.mean  NO336.std  NO42.mean  \\\n",
       "0  109.164607    0.319316   0.179649    0.336724   0.183974   0.235517   \n",
       "1  115.885107    0.023618   0.040306    0.028105   0.042142   0.025294   \n",
       "2  173.191387    0.030898   0.047893    0.030000   0.046062   0.028802   \n",
       "3   44.480753    0.717442   1.046600    0.763642   1.119467   0.601387   \n",
       "4  149.664508    0.068877   0.114949    0.066043   0.117777   0.044011   \n",
       "\n",
       "   NO42.std  NO504.mean  NO504.std  NO672.mean  NO672.std  NO84.mean  \\\n",
       "0  0.157543    0.332500   0.183478    0.287241   0.172559   0.286638   \n",
       "1  0.045379    0.027908   0.046759    0.030458   0.042894   0.025425   \n",
       "2  0.047107    0.024910   0.045468    0.029940   0.052406   0.028802   \n",
       "3  0.923043    0.800925   1.168399    0.822428   1.205617   0.663006   \n",
       "4  0.082263    0.070856   0.114935    0.060695   0.102049   0.055615   \n",
       "\n",
       "   NO84.std  NOx168.mean  NOx168.std  NOx336.mean  NOx336.std  NOx42.mean  \\\n",
       "0  0.160141     2.657949    0.672278     2.650259    0.667324    2.621983   \n",
       "1  0.094298     0.843355    0.159896     0.829739    0.157876    0.914641   \n",
       "2  0.050870     0.747545    0.207766     0.736407    0.174350    0.775150   \n",
       "3  0.987611     5.320233    3.781138     5.338671    3.753506    5.213815   \n",
       "4  0.104491     1.790267    0.550229     1.795455    0.530625    1.780428   \n",
       "\n",
       "   NOx42.std  NOx504.mean  NOx504.std  NOx672.mean  NOx672.std  NOx84.mean  \\\n",
       "0   0.646127     2.642241    0.667192     2.609828    0.684998    2.645259   \n",
       "1   0.574305     0.824510    0.162646     0.833987    0.174832    0.864379   \n",
       "2   0.254238     0.705210    0.156536     0.709701    0.152953    0.771078   \n",
       "3   3.688073     5.385145    3.785862     5.367168    3.754349    5.273179   \n",
       "4   0.559155     1.822139    0.566524     1.793743    0.531359    1.796096   \n",
       "\n",
       "   NOx84.std  O3168.mean  O3168.std  O342.mean   O342.std  O3504.mean  \\\n",
       "0   0.652994   32.624872   0.697921  31.269483   1.853033   32.866724   \n",
       "1   0.229341   47.953553   3.039311  47.584248   3.272690   48.135098   \n",
       "2   0.245791   45.974192   1.892847  45.661317   1.922014   46.141737   \n",
       "3   3.719481   25.750058  11.283468  25.048671  11.197286   26.131965   \n",
       "4   0.564777   44.413209   8.021886  42.884439   8.535402   46.209465   \n",
       "\n",
       "   O3504.std  O3672.mean  O3672.std  O384.mean   O384.std   Pamb0.mean  \\\n",
       "0   0.892441   32.675345   0.928274  32.235086   0.938220  1006.514940   \n",
       "1   2.780791   48.196993   2.678606  47.717712   3.193208   992.994188   \n",
       "2   1.895122   46.116168   1.889977  45.854731   1.943906   986.740455   \n",
       "3  11.228633   26.159249  11.274995  25.434046  11.249581   990.841331   \n",
       "4   6.353758   46.484278   6.058093  43.831070   8.359495   997.628578   \n",
       "\n",
       "   Pamb0.std    PAR.mean     PAR.std  PTG.mean   PTG.std  RGlob.mean  \\\n",
       "0   0.217193  339.171515  211.125658  0.000964  0.007481   67.500843   \n",
       "1   0.280526  487.596401  268.860550 -0.005340  0.008779   41.090445   \n",
       "2   2.777462  515.622611  392.245819 -0.002910  0.006699   41.006814   \n",
       "3   0.270278  147.485058  103.352511 -0.000718  0.004928   10.616065   \n",
       "4   2.498647  472.855914  372.252005  0.005027  0.022413   28.190856   \n",
       "\n",
       "   RGlob.std  RHIRGA168.mean  RHIRGA168.std  RHIRGA336.mean  RHIRGA336.std  \\\n",
       "0  30.529852       95.104103       1.612618       96.532586       2.382040   \n",
       "1  21.317089       59.672237      14.625643       60.119150      14.369137   \n",
       "2  29.483793       65.047844      13.978114       65.240539      14.181466   \n",
       "3   6.538927       90.906221       8.723910       91.022775       8.508574   \n",
       "4  22.321519       60.907326      13.539642       60.474385      12.681657   \n",
       "\n",
       "   RHIRGA42.mean  RHIRGA42.std  RHIRGA504.mean  RHIRGA504.std  RHIRGA672.mean  \\\n",
       "0      92.189052      1.781872       96.752672       2.326736      101.351071   \n",
       "1      59.535033     15.592649       60.910915      14.122225       62.475294   \n",
       "2      64.822395     13.827617       65.872216      14.174827       67.481018   \n",
       "3      89.268844      8.521074       91.875780       8.113524       93.993988   \n",
       "4      61.444785     14.618152       60.320374      11.790057       60.756257   \n",
       "\n",
       "   RHIRGA672.std  RHIRGA84.mean  RHIRGA84.std  RPAR.mean   RPAR.std  \\\n",
       "0       4.571036      93.293534      1.981996  84.476919  49.764321   \n",
       "1      14.217269      59.184771     15.260717  32.421126  19.516104   \n",
       "2      14.652811      64.301856     13.820666  32.940216  25.385709   \n",
       "3       7.917405      89.774162      8.896734  11.890787   7.737403   \n",
       "4      10.476841      60.506720     13.973508  17.840791  14.732266   \n",
       "\n",
       "   SO2168.mean  SO2168.std    SWS.mean    SWS.std  T168.mean  T168.std  \\\n",
       "0     0.559316    0.374688  936.605263   0.916500 -10.272530  1.575415   \n",
       "1     0.138289    0.115293  923.450980   2.062171  -1.330589  1.947330   \n",
       "2     0.107066    0.122741  923.410714   2.647653   1.672108  1.942941   \n",
       "3     0.323605    0.226767  918.862069  17.331088   2.321829  0.374436   \n",
       "4     0.366150    0.324216  919.629032  40.316874  11.210545  2.933483   \n",
       "\n",
       "    T42.mean   T42.std  T504.mean  T504.std  T672.mean  T672.std   T84.mean  \\\n",
       "0 -10.489828  2.085275 -10.346540  1.347401 -10.730843  1.381815 -10.282754   \n",
       "1  -1.037435  2.231552  -1.738455  1.748079  -2.095641  1.695622  -1.095864   \n",
       "2   1.893257  1.960102   1.354012  1.910314   0.991521  1.914186   1.846503   \n",
       "3   2.610683  0.392255   2.105324  0.338427   1.753414  0.340565   2.524931   \n",
       "4  11.415176  3.199418  11.139711  2.455458  10.940107  2.179821  11.441893   \n",
       "\n",
       "    T84.std  UV_A.mean  UV_A.std  UV_B.mean  UV_B.std   CS.mean    CS.std  \\\n",
       "0  1.870056   8.356761  4.534937   0.178084  0.123402  0.002546  0.000686   \n",
       "1  2.090111  12.906779  7.022300   0.333523  0.239981  0.000662  0.000210   \n",
       "2  1.954748  14.286261  9.572444   0.418313  0.344386  0.000541  0.000072   \n",
       "3  0.414255   4.945162  3.405652   0.224159  0.192014  0.003710  0.001209   \n",
       "4  3.048699  13.087014  9.771415   0.525591  0.476821  0.003680  0.002160   \n",
       "\n",
       "   month  \n",
       "0      2  \n",
       "1      3  \n",
       "2      4  \n",
       "3      4  \n",
       "4      4  "
      ],
      "text/html": "<div>\n<style scoped>\n    .dataframe tbody tr th:only-of-type {\n        vertical-align: middle;\n    }\n\n    .dataframe tbody tr th {\n        vertical-align: top;\n    }\n\n    .dataframe thead th {\n        text-align: right;\n    }\n</style>\n<table border=\"1\" class=\"dataframe\">\n  <thead>\n    <tr style=\"text-align: right;\">\n      <th></th>\n      <th>class4</th>\n      <th>CO2168.mean</th>\n      <th>CO2168.std</th>\n      <th>CO2336.mean</th>\n      <th>CO2336.std</th>\n      <th>CO242.mean</th>\n      <th>CO242.std</th>\n      <th>CO2504.mean</th>\n      <th>CO2504.std</th>\n      <th>Glob.mean</th>\n      <th>Glob.std</th>\n      <th>H2O168.mean</th>\n      <th>H2O168.std</th>\n      <th>H2O336.mean</th>\n      <th>H2O336.std</th>\n      <th>H2O42.mean</th>\n      <th>H2O42.std</th>\n      <th>H2O504.mean</th>\n      <th>H2O504.std</th>\n      <th>H2O672.mean</th>\n      <th>H2O672.std</th>\n      <th>H2O84.mean</th>\n      <th>H2O84.std</th>\n      <th>NET.mean</th>\n      <th>NET.std</th>\n      <th>NO168.mean</th>\n      <th>NO168.std</th>\n      <th>NO336.mean</th>\n      <th>NO336.std</th>\n      <th>NO42.mean</th>\n      <th>NO42.std</th>\n      <th>NO504.mean</th>\n      <th>NO504.std</th>\n      <th>NO672.mean</th>\n      <th>NO672.std</th>\n      <th>NO84.mean</th>\n      <th>NO84.std</th>\n      <th>NOx168.mean</th>\n      <th>NOx168.std</th>\n      <th>NOx336.mean</th>\n      <th>NOx336.std</th>\n      <th>NOx42.mean</th>\n      <th>NOx42.std</th>\n      <th>NOx504.mean</th>\n      <th>NOx504.std</th>\n      <th>NOx672.mean</th>\n      <th>NOx672.std</th>\n      <th>NOx84.mean</th>\n      <th>NOx84.std</th>\n      <th>O3168.mean</th>\n      <th>O3168.std</th>\n      <th>O342.mean</th>\n      <th>O342.std</th>\n      <th>O3504.mean</th>\n      <th>O3504.std</th>\n      <th>O3672.mean</th>\n      <th>O3672.std</th>\n      <th>O384.mean</th>\n      <th>O384.std</th>\n      <th>Pamb0.mean</th>\n      <th>Pamb0.std</th>\n      <th>PAR.mean</th>\n      <th>PAR.std</th>\n      <th>PTG.mean</th>\n      <th>PTG.std</th>\n      <th>RGlob.mean</th>\n      <th>RGlob.std</th>\n      <th>RHIRGA168.mean</th>\n      <th>RHIRGA168.std</th>\n      <th>RHIRGA336.mean</th>\n      <th>RHIRGA336.std</th>\n      <th>RHIRGA42.mean</th>\n      <th>RHIRGA42.std</th>\n      <th>RHIRGA504.mean</th>\n      <th>RHIRGA504.std</th>\n      <th>RHIRGA672.mean</th>\n      <th>RHIRGA672.std</th>\n      <th>RHIRGA84.mean</th>\n      <th>RHIRGA84.std</th>\n      <th>RPAR.mean</th>\n      <th>RPAR.std</th>\n      <th>SO2168.mean</th>\n      <th>SO2168.std</th>\n      <th>SWS.mean</th>\n      <th>SWS.std</th>\n      <th>T168.mean</th>\n      <th>T168.std</th>\n      <th>T42.mean</th>\n      <th>T42.std</th>\n      <th>T504.mean</th>\n      <th>T504.std</th>\n      <th>T672.mean</th>\n      <th>T672.std</th>\n      <th>T84.mean</th>\n      <th>T84.std</th>\n      <th>UV_A.mean</th>\n      <th>UV_A.std</th>\n      <th>UV_B.mean</th>\n      <th>UV_B.std</th>\n      <th>CS.mean</th>\n      <th>CS.std</th>\n      <th>month</th>\n    </tr>\n  </thead>\n  <tbody>\n    <tr>\n      <th>0</th>\n      <td>nonevent</td>\n      <td>380.528120</td>\n      <td>0.802001</td>\n      <td>380.371466</td>\n      <td>0.889550</td>\n      <td>381.816207</td>\n      <td>1.292593</td>\n      <td>380.296466</td>\n      <td>0.968884</td>\n      <td>236.605353</td>\n      <td>145.160571</td>\n      <td>2.663504</td>\n      <td>0.319427</td>\n      <td>2.695603</td>\n      <td>0.304894</td>\n      <td>2.548879</td>\n      <td>0.382813</td>\n      <td>2.694138</td>\n      <td>0.306606</td>\n      <td>2.771071</td>\n      <td>0.366386</td>\n      <td>2.613362</td>\n      <td>0.348996</td>\n      <td>81.699876</td>\n      <td>109.164607</td>\n      <td>0.319316</td>\n      <td>0.179649</td>\n      <td>0.336724</td>\n      <td>0.183974</td>\n      <td>0.235517</td>\n      <td>0.157543</td>\n      <td>0.332500</td>\n      <td>0.183478</td>\n      <td>0.287241</td>\n      <td>0.172559</td>\n      <td>0.286638</td>\n      <td>0.160141</td>\n      <td>2.657949</td>\n      <td>0.672278</td>\n      <td>2.650259</td>\n      <td>0.667324</td>\n      <td>2.621983</td>\n      <td>0.646127</td>\n      <td>2.642241</td>\n      <td>0.667192</td>\n      <td>2.609828</td>\n      <td>0.684998</td>\n      <td>2.645259</td>\n      <td>0.652994</td>\n      <td>32.624872</td>\n      <td>0.697921</td>\n      <td>31.269483</td>\n      <td>1.853033</td>\n      <td>32.866724</td>\n      <td>0.892441</td>\n      <td>32.675345</td>\n      <td>0.928274</td>\n      <td>32.235086</td>\n      <td>0.938220</td>\n      <td>1006.514940</td>\n      <td>0.217193</td>\n      <td>339.171515</td>\n      <td>211.125658</td>\n      <td>0.000964</td>\n      <td>0.007481</td>\n      <td>67.500843</td>\n      <td>30.529852</td>\n      <td>95.104103</td>\n      <td>1.612618</td>\n      <td>96.532586</td>\n      <td>2.382040</td>\n      <td>92.189052</td>\n      <td>1.781872</td>\n      <td>96.752672</td>\n      <td>2.326736</td>\n      <td>101.351071</td>\n      <td>4.571036</td>\n      <td>93.293534</td>\n      <td>1.981996</td>\n      <td>84.476919</td>\n      <td>49.764321</td>\n      <td>0.559316</td>\n      <td>0.374688</td>\n      <td>936.605263</td>\n      <td>0.916500</td>\n      <td>-10.272530</td>\n      <td>1.575415</td>\n      <td>-10.489828</td>\n      <td>2.085275</td>\n      <td>-10.346540</td>\n      <td>1.347401</td>\n      <td>-10.730843</td>\n      <td>1.381815</td>\n      <td>-10.282754</td>\n      <td>1.870056</td>\n      <td>8.356761</td>\n      <td>4.534937</td>\n      <td>0.178084</td>\n      <td>0.123402</td>\n      <td>0.002546</td>\n      <td>0.000686</td>\n      <td>2</td>\n    </tr>\n    <tr>\n      <th>1</th>\n      <td>Ib</td>\n      <td>373.128684</td>\n      <td>1.096617</td>\n      <td>372.980000</td>\n      <td>1.047750</td>\n      <td>373.701830</td>\n      <td>1.259198</td>\n      <td>372.910000</td>\n      <td>1.004164</td>\n      <td>252.480327</td>\n      <td>138.921953</td>\n      <td>3.253684</td>\n      <td>0.299728</td>\n      <td>3.232222</td>\n      <td>0.308108</td>\n      <td>3.299150</td>\n      <td>0.290206</td>\n      <td>3.228039</td>\n      <td>0.310416</td>\n      <td>3.227712</td>\n      <td>0.307517</td>\n      <td>3.267582</td>\n      <td>0.298119</td>\n      <td>142.534162</td>\n      <td>115.885107</td>\n      <td>0.023618</td>\n      <td>0.040306</td>\n      <td>0.028105</td>\n      <td>0.042142</td>\n      <td>0.025294</td>\n      <td>0.045379</td>\n      <td>0.027908</td>\n      <td>0.046759</td>\n      <td>0.030458</td>\n      <td>0.042894</td>\n      <td>0.025425</td>\n      <td>0.094298</td>\n      <td>0.843355</td>\n      <td>0.159896</td>\n      <td>0.829739</td>\n      <td>0.157876</td>\n      <td>0.914641</td>\n      <td>0.574305</td>\n      <td>0.824510</td>\n      <td>0.162646</td>\n      <td>0.833987</td>\n      <td>0.174832</td>\n      <td>0.864379</td>\n      <td>0.229341</td>\n      <td>47.953553</td>\n      <td>3.039311</td>\n      <td>47.584248</td>\n      <td>3.272690</td>\n      <td>48.135098</td>\n      <td>2.780791</td>\n      <td>48.196993</td>\n      <td>2.678606</td>\n      <td>47.717712</td>\n      <td>3.193208</td>\n      <td>992.994188</td>\n      <td>0.280526</td>\n      <td>487.596401</td>\n      <td>268.860550</td>\n      <td>-0.005340</td>\n      <td>0.008779</td>\n      <td>41.090445</td>\n      <td>21.317089</td>\n      <td>59.672237</td>\n      <td>14.625643</td>\n      <td>60.119150</td>\n      <td>14.369137</td>\n      <td>59.535033</td>\n      <td>15.592649</td>\n      <td>60.910915</td>\n      <td>14.122225</td>\n      <td>62.475294</td>\n      <td>14.217269</td>\n      <td>59.184771</td>\n      <td>15.260717</td>\n      <td>32.421126</td>\n      <td>19.516104</td>\n      <td>0.138289</td>\n      <td>0.115293</td>\n      <td>923.450980</td>\n      <td>2.062171</td>\n      <td>-1.330589</td>\n      <td>1.947330</td>\n      <td>-1.037435</td>\n      <td>2.231552</td>\n      <td>-1.738455</td>\n      <td>1.748079</td>\n      <td>-2.095641</td>\n      <td>1.695622</td>\n      <td>-1.095864</td>\n      <td>2.090111</td>\n      <td>12.906779</td>\n      <td>7.022300</td>\n      <td>0.333523</td>\n      <td>0.239981</td>\n      <td>0.000662</td>\n      <td>0.000210</td>\n      <td>3</td>\n    </tr>\n    <tr>\n      <th>2</th>\n      <td>Ib</td>\n      <td>372.363293</td>\n      <td>0.626329</td>\n      <td>372.245689</td>\n      <td>0.615803</td>\n      <td>372.847246</td>\n      <td>0.647279</td>\n      <td>372.193952</td>\n      <td>0.596289</td>\n      <td>269.981547</td>\n      <td>200.826676</td>\n      <td>4.459042</td>\n      <td>0.367894</td>\n      <td>4.422874</td>\n      <td>0.365105</td>\n      <td>4.509760</td>\n      <td>0.360563</td>\n      <td>4.409401</td>\n      <td>0.359296</td>\n      <td>4.395988</td>\n      <td>0.357929</td>\n      <td>4.462515</td>\n      <td>0.362899</td>\n      <td>156.409709</td>\n      <td>173.191387</td>\n      <td>0.030898</td>\n      <td>0.047893</td>\n      <td>0.030000</td>\n      <td>0.046062</td>\n      <td>0.028802</td>\n      <td>0.047107</td>\n      <td>0.024910</td>\n      <td>0.045468</td>\n      <td>0.029940</td>\n      <td>0.052406</td>\n      <td>0.028802</td>\n      <td>0.050870</td>\n      <td>0.747545</td>\n      <td>0.207766</td>\n      <td>0.736407</td>\n      <td>0.174350</td>\n      <td>0.775150</td>\n      <td>0.254238</td>\n      <td>0.705210</td>\n      <td>0.156536</td>\n      <td>0.709701</td>\n      <td>0.152953</td>\n      <td>0.771078</td>\n      <td>0.245791</td>\n      <td>45.974192</td>\n      <td>1.892847</td>\n      <td>45.661317</td>\n      <td>1.922014</td>\n      <td>46.141737</td>\n      <td>1.895122</td>\n      <td>46.116168</td>\n      <td>1.889977</td>\n      <td>45.854731</td>\n      <td>1.943906</td>\n      <td>986.740455</td>\n      <td>2.777462</td>\n      <td>515.622611</td>\n      <td>392.245819</td>\n      <td>-0.002910</td>\n      <td>0.006699</td>\n      <td>41.006814</td>\n      <td>29.483793</td>\n      <td>65.047844</td>\n      <td>13.978114</td>\n      <td>65.240539</td>\n      <td>14.181466</td>\n      <td>64.822395</td>\n      <td>13.827617</td>\n      <td>65.872216</td>\n      <td>14.174827</td>\n      <td>67.481018</td>\n      <td>14.652811</td>\n      <td>64.301856</td>\n      <td>13.820666</td>\n      <td>32.940216</td>\n      <td>25.385709</td>\n      <td>0.107066</td>\n      <td>0.122741</td>\n      <td>923.410714</td>\n      <td>2.647653</td>\n      <td>1.672108</td>\n      <td>1.942941</td>\n      <td>1.893257</td>\n      <td>1.960102</td>\n      <td>1.354012</td>\n      <td>1.910314</td>\n      <td>0.991521</td>\n      <td>1.914186</td>\n      <td>1.846503</td>\n      <td>1.954748</td>\n      <td>14.286261</td>\n      <td>9.572444</td>\n      <td>0.418313</td>\n      <td>0.344386</td>\n      <td>0.000541</td>\n      <td>0.000072</td>\n      <td>4</td>\n    </tr>\n    <tr>\n      <th>3</th>\n      <td>nonevent</td>\n      <td>381.437442</td>\n      <td>7.281159</td>\n      <td>381.380405</td>\n      <td>7.236002</td>\n      <td>381.926532</td>\n      <td>7.294374</td>\n      <td>381.381156</td>\n      <td>7.208287</td>\n      <td>68.364653</td>\n      <td>48.560722</td>\n      <td>6.613430</td>\n      <td>0.508011</td>\n      <td>6.568035</td>\n      <td>0.498439</td>\n      <td>6.627225</td>\n      <td>0.517847</td>\n      <td>6.579017</td>\n      <td>0.469558</td>\n      <td>6.566474</td>\n      <td>0.454360</td>\n      <td>6.620694</td>\n      <td>0.527051</td>\n      <td>53.752882</td>\n      <td>44.480753</td>\n      <td>0.717442</td>\n      <td>1.046600</td>\n      <td>0.763642</td>\n      <td>1.119467</td>\n      <td>0.601387</td>\n      <td>0.923043</td>\n      <td>0.800925</td>\n      <td>1.168399</td>\n      <td>0.822428</td>\n      <td>1.205617</td>\n      <td>0.663006</td>\n      <td>0.987611</td>\n      <td>5.320233</td>\n      <td>3.781138</td>\n      <td>5.338671</td>\n      <td>3.753506</td>\n      <td>5.213815</td>\n      <td>3.688073</td>\n      <td>5.385145</td>\n      <td>3.785862</td>\n      <td>5.367168</td>\n      <td>3.754349</td>\n      <td>5.273179</td>\n      <td>3.719481</td>\n      <td>25.750058</td>\n      <td>11.283468</td>\n      <td>25.048671</td>\n      <td>11.197286</td>\n      <td>26.131965</td>\n      <td>11.228633</td>\n      <td>26.159249</td>\n      <td>11.274995</td>\n      <td>25.434046</td>\n      <td>11.249581</td>\n      <td>990.841331</td>\n      <td>0.270278</td>\n      <td>147.485058</td>\n      <td>103.352511</td>\n      <td>-0.000718</td>\n      <td>0.004928</td>\n      <td>10.616065</td>\n      <td>6.538927</td>\n      <td>90.906221</td>\n      <td>8.723910</td>\n      <td>91.022775</td>\n      <td>8.508574</td>\n      <td>89.268844</td>\n      <td>8.521074</td>\n      <td>91.875780</td>\n      <td>8.113524</td>\n      <td>93.993988</td>\n      <td>7.917405</td>\n      <td>89.774162</td>\n      <td>8.896734</td>\n      <td>11.890787</td>\n      <td>7.737403</td>\n      <td>0.323605</td>\n      <td>0.226767</td>\n      <td>918.862069</td>\n      <td>17.331088</td>\n      <td>2.321829</td>\n      <td>0.374436</td>\n      <td>2.610683</td>\n      <td>0.392255</td>\n      <td>2.105324</td>\n      <td>0.338427</td>\n      <td>1.753414</td>\n      <td>0.340565</td>\n      <td>2.524931</td>\n      <td>0.414255</td>\n      <td>4.945162</td>\n      <td>3.405652</td>\n      <td>0.224159</td>\n      <td>0.192014</td>\n      <td>0.003710</td>\n      <td>0.001209</td>\n      <td>4</td>\n    </tr>\n    <tr>\n      <th>4</th>\n      <td>II</td>\n      <td>375.426310</td>\n      <td>3.264246</td>\n      <td>375.436524</td>\n      <td>3.110886</td>\n      <td>375.740215</td>\n      <td>3.274924</td>\n      <td>375.337059</td>\n      <td>2.903780</td>\n      <td>242.192619</td>\n      <td>190.952026</td>\n      <td>7.934171</td>\n      <td>0.326185</td>\n      <td>7.882727</td>\n      <td>0.302425</td>\n      <td>8.106183</td>\n      <td>0.368029</td>\n      <td>7.859840</td>\n      <td>0.299242</td>\n      <td>7.843690</td>\n      <td>0.295740</td>\n      <td>7.997957</td>\n      <td>0.350785</td>\n      <td>160.373121</td>\n      <td>149.664508</td>\n      <td>0.068877</td>\n      <td>0.114949</td>\n      <td>0.066043</td>\n      <td>0.117777</td>\n      <td>0.044011</td>\n      <td>0.082263</td>\n      <td>0.070856</td>\n      <td>0.114935</td>\n      <td>0.060695</td>\n      <td>0.102049</td>\n      <td>0.055615</td>\n      <td>0.104491</td>\n      <td>1.790267</td>\n      <td>0.550229</td>\n      <td>1.795455</td>\n      <td>0.530625</td>\n      <td>1.780428</td>\n      <td>0.559155</td>\n      <td>1.822139</td>\n      <td>0.566524</td>\n      <td>1.793743</td>\n      <td>0.531359</td>\n      <td>1.796096</td>\n      <td>0.564777</td>\n      <td>44.413209</td>\n      <td>8.021886</td>\n      <td>42.884439</td>\n      <td>8.535402</td>\n      <td>46.209465</td>\n      <td>6.353758</td>\n      <td>46.484278</td>\n      <td>6.058093</td>\n      <td>43.831070</td>\n      <td>8.359495</td>\n      <td>997.628578</td>\n      <td>2.498647</td>\n      <td>472.855914</td>\n      <td>372.252005</td>\n      <td>0.005027</td>\n      <td>0.022413</td>\n      <td>28.190856</td>\n      <td>22.321519</td>\n      <td>60.907326</td>\n      <td>13.539642</td>\n      <td>60.474385</td>\n      <td>12.681657</td>\n      <td>61.444785</td>\n      <td>14.618152</td>\n      <td>60.320374</td>\n      <td>11.790057</td>\n      <td>60.756257</td>\n      <td>10.476841</td>\n      <td>60.506720</td>\n      <td>13.973508</td>\n      <td>17.840791</td>\n      <td>14.732266</td>\n      <td>0.366150</td>\n      <td>0.324216</td>\n      <td>919.629032</td>\n      <td>40.316874</td>\n      <td>11.210545</td>\n      <td>2.933483</td>\n      <td>11.415176</td>\n      <td>3.199418</td>\n      <td>11.139711</td>\n      <td>2.455458</td>\n      <td>10.940107</td>\n      <td>2.179821</td>\n      <td>11.441893</td>\n      <td>3.048699</td>\n      <td>13.087014</td>\n      <td>9.771415</td>\n      <td>0.525591</td>\n      <td>0.476821</td>\n      <td>0.003680</td>\n      <td>0.002160</td>\n      <td>4</td>\n    </tr>\n  </tbody>\n</table>\n</div>"
     },
     "metadata": {},
     "execution_count": 9
    }
   ],
   "source": [
    "df['month'] = pd.DatetimeIndex(df['date']).month\n",
    "df = df.drop(columns=[\"date\"])\n",
    "df.head()"
   ]
  },
  {
   "cell_type": "code",
   "execution_count": 10,
   "metadata": {},
   "outputs": [],
   "source": [
    "df[\"class2\"] = df[\"class4\"].apply(lambda x: 0 if x == \"nonevent\" else 1)"
   ]
  },
  {
   "cell_type": "code",
   "execution_count": 11,
   "metadata": {},
   "outputs": [],
   "source": [
    "def accuracy(y_pred, y_test):\n",
    "    correct = 0\n",
    "    total = len(y_pred)\n",
    "\n",
    "    for i in range(0, total):\n",
    "        if y_pred[i] == y_test[i]:\n",
    "            correct += 1\n",
    "\n",
    "    return(correct / total) "
   ]
  },
  {
   "cell_type": "code",
   "execution_count": 12,
   "metadata": {},
   "outputs": [],
   "source": [
    "def get_X_with_K_features(X, y, k):\n",
    "    X_new = SelectKBest(f_classif, k=k).fit_transform(X,y)\n",
    "    return(X_new)"
   ]
  },
  {
   "cell_type": "code",
   "execution_count": 8,
   "metadata": {},
   "outputs": [
    {
     "data": {
      "text/plain": [
       "0.6759259259259259"
      ]
     },
     "execution_count": 8,
     "metadata": {},
     "output_type": "execute_result"
    }
   ],
   "source": [
    "## Multi-class random forest\n",
    "\n",
    "y = np.array(df[\"class4\"])\n",
    "X = np.array(df.drop(columns=[\"class4\", \"class2\"]))\n",
    "\n",
    "X_train, X_test, y_train, y_test = train_test_split(X, y, test_size = 0.25, random_state = rs)\n",
    "\n",
    "rf = RandomForestClassifier(n_estimators = 1000, random_state = rs)\n",
    "rf.fit(X_train, y_train)\n",
    "\n",
    "y_pred = rf.predict(X_test)\n",
    "\n",
    "accuracy(y_pred, y_test)"
   ]
  },
  {
   "cell_type": "code",
   "execution_count": 9,
   "metadata": {},
   "outputs": [
    {
     "data": {
      "text/plain": [
       "0.8425925925925926"
      ]
     },
     "execution_count": 9,
     "metadata": {},
     "output_type": "execute_result"
    }
   ],
   "source": [
    "## Single-class random forest\n",
    "\n",
    "y = np.array(df[\"class2\"])\n",
    "X = np.array(df.drop(columns=[\"class4\", \"class2\"]))\n",
    "\n",
    "X_train, X_test, y_train, y_test = train_test_split(X, y, test_size = 0.25, random_state = rs)\n",
    "\n",
    "rf = RandomForestClassifier(n_estimators = 1000, random_state = rs)\n",
    "rf.fit(X_train, y_train)\n",
    "\n",
    "y_pred = rf.predict(X_test)\n",
    "\n",
    "accuracy(y_pred, y_test)"
   ]
  },
  {
   "cell_type": "code",
   "execution_count": 4,
   "metadata": {
    "scrolled": true
   },
   "outputs": [
    {
     "output_type": "error",
     "ename": "NameError",
     "evalue": "name 'df' is not defined",
     "traceback": [
      "\u001b[0;31m---------------------------------------------------------------------------\u001b[0m",
      "\u001b[0;31mNameError\u001b[0m                                 Traceback (most recent call last)",
      "\u001b[0;32m<ipython-input-4-1c5d6778e76f>\u001b[0m in \u001b[0;36m<module>\u001b[0;34m\u001b[0m\n\u001b[1;32m      1\u001b[0m \u001b[0;31m# Logistic regression\u001b[0m\u001b[0;34m\u001b[0m\u001b[0;34m\u001b[0m\u001b[0;34m\u001b[0m\u001b[0m\n\u001b[0;32m----> 2\u001b[0;31m \u001b[0my\u001b[0m \u001b[0;34m=\u001b[0m \u001b[0mnp\u001b[0m\u001b[0;34m.\u001b[0m\u001b[0marray\u001b[0m\u001b[0;34m(\u001b[0m\u001b[0mdf\u001b[0m\u001b[0;34m[\u001b[0m\u001b[0;34m\"class2\"\u001b[0m\u001b[0;34m]\u001b[0m\u001b[0;34m)\u001b[0m\u001b[0;34m\u001b[0m\u001b[0;34m\u001b[0m\u001b[0m\n\u001b[0m\u001b[1;32m      3\u001b[0m \u001b[0mX\u001b[0m \u001b[0;34m=\u001b[0m \u001b[0mnp\u001b[0m\u001b[0;34m.\u001b[0m\u001b[0marray\u001b[0m\u001b[0;34m(\u001b[0m\u001b[0mdf\u001b[0m\u001b[0;34m.\u001b[0m\u001b[0mdrop\u001b[0m\u001b[0;34m(\u001b[0m\u001b[0mcolumns\u001b[0m\u001b[0;34m=\u001b[0m\u001b[0;34m[\u001b[0m\u001b[0;34m\"class4\"\u001b[0m\u001b[0;34m,\u001b[0m \u001b[0;34m\"class2\"\u001b[0m\u001b[0;34m,\u001b[0m \u001b[0;34m\"month\"\u001b[0m\u001b[0;34m]\u001b[0m\u001b[0;34m)\u001b[0m\u001b[0;34m)\u001b[0m\u001b[0;34m\u001b[0m\u001b[0;34m\u001b[0m\u001b[0m\n\u001b[1;32m      4\u001b[0m \u001b[0;34m\u001b[0m\u001b[0m\n\u001b[1;32m      5\u001b[0m \u001b[0mX_train\u001b[0m\u001b[0;34m,\u001b[0m \u001b[0mX_test\u001b[0m\u001b[0;34m,\u001b[0m \u001b[0my_train\u001b[0m\u001b[0;34m,\u001b[0m \u001b[0my_test\u001b[0m \u001b[0;34m=\u001b[0m \u001b[0mtrain_test_split\u001b[0m\u001b[0;34m(\u001b[0m\u001b[0mX\u001b[0m\u001b[0;34m,\u001b[0m \u001b[0my\u001b[0m\u001b[0;34m,\u001b[0m \u001b[0mtest_size\u001b[0m \u001b[0;34m=\u001b[0m \u001b[0;36m0.25\u001b[0m\u001b[0;34m,\u001b[0m \u001b[0mrandom_state\u001b[0m \u001b[0;34m=\u001b[0m \u001b[0mrs\u001b[0m\u001b[0;34m)\u001b[0m\u001b[0;34m\u001b[0m\u001b[0;34m\u001b[0m\u001b[0m\n",
      "\u001b[0;31mNameError\u001b[0m: name 'df' is not defined"
     ]
    }
   ],
   "source": [
    "# Logistic regression\n",
    "y = np.array(df[\"class2\"])\n",
    "X = np.array(df.drop(columns=[\"class4\", \"class2\", \"month\"]))\n",
    "\n",
    "X_train, X_test, y_train, y_test = train_test_split(X, y, test_size = 0.25, random_state = rs)\n",
    "\n",
    "lr = LogisticRegression(max_iter=10000)\n",
    "lr.fit(X_train, y_train)\n",
    "\n",
    "y_pred = lr.predict(X_test)\n",
    "acc = lr.score(X_test, y_test)\n",
    "acc"
   ]
  },
  {
   "cell_type": "code",
   "execution_count": 47,
   "metadata": {},
   "outputs": [],
   "source": [
    "# Multinomial logistic regression\n",
    "y = np.array(df[\"class4\"])\n",
    "X = np.array(df.drop(columns=[\"class4\", \"class2\", \"month\"]))\n",
    "\n",
    "param_grid = {\n",
    "        'penalty': ['l1', 'l2'],\n",
    "        'C' : np.logspace(-4, 4, 20),\n",
    "        'multi_class': ['multinomial'],\n",
    "        'solver': ['saga', 'lbfgs'],\n",
    "        'max_iter': [10000]\n",
    "}\n",
    "\n",
    "models = []\n",
    "\n",
    "for k in range(45, 101, 5):\n",
    "    X_new = get_X_with_K_features(X, y, k)\n",
    "    lrm = LogisticRegression()\n",
    "    lrm_cv = GridSearchCV(lrm, param_grid, cv=StratifiedKFold(n_splits=10, random_state=rs), n_jobs=-1)\n",
    "    lrm_cv.fit(X_new, y)\n",
    "    \n",
    "    models.append(lrm_cv)"
   ]
  },
  {
   "cell_type": "code",
   "execution_count": 48,
   "metadata": {},
   "outputs": [
    {
     "output_type": "execute_result",
     "data": {
      "text/plain": [
       "[<matplotlib.lines.Line2D at 0x7ff697e45c70>]"
      ]
     },
     "metadata": {},
     "execution_count": 48
    },
    {
     "output_type": "display_data",
     "data": {
      "text/plain": "<Figure size 432x288 with 1 Axes>",
      "image/svg+xml": "<?xml version=\"1.0\" encoding=\"utf-8\" standalone=\"no\"?>\n<!DOCTYPE svg PUBLIC \"-//W3C//DTD SVG 1.1//EN\"\n  \"http://www.w3.org/Graphics/SVG/1.1/DTD/svg11.dtd\">\n<!-- Created with matplotlib (https://matplotlib.org/) -->\n<svg height=\"277.314375pt\" version=\"1.1\" viewBox=\"0 0 398.50625 277.314375\" width=\"398.50625pt\" xmlns=\"http://www.w3.org/2000/svg\" xmlns:xlink=\"http://www.w3.org/1999/xlink\">\n <metadata>\n  <rdf:RDF xmlns:cc=\"http://creativecommons.org/ns#\" xmlns:dc=\"http://purl.org/dc/elements/1.1/\" xmlns:rdf=\"http://www.w3.org/1999/02/22-rdf-syntax-ns#\">\n   <cc:Work>\n    <dc:type rdf:resource=\"http://purl.org/dc/dcmitype/StillImage\"/>\n    <dc:date>2020-12-06T19:39:33.661840</dc:date>\n    <dc:format>image/svg+xml</dc:format>\n    <dc:creator>\n     <cc:Agent>\n      <dc:title>Matplotlib v3.3.0, https://matplotlib.org/</dc:title>\n     </cc:Agent>\n    </dc:creator>\n   </cc:Work>\n  </rdf:RDF>\n </metadata>\n <defs>\n  <style type=\"text/css\">*{stroke-linecap:butt;stroke-linejoin:round;}</style>\n </defs>\n <g id=\"figure_1\">\n  <g id=\"patch_1\">\n   <path d=\"M 0 277.314375 \nL 398.50625 277.314375 \nL 398.50625 0 \nL 0 0 \nz\n\" style=\"fill:none;\"/>\n  </g>\n  <g id=\"axes_1\">\n   <g id=\"patch_2\">\n    <path d=\"M 56.50625 239.758125 \nL 391.30625 239.758125 \nL 391.30625 22.318125 \nL 56.50625 22.318125 \nz\n\" style=\"fill:#ffffff;\"/>\n   </g>\n   <g id=\"matplotlib.axis_1\">\n    <g id=\"xtick_1\">\n     <g id=\"line2d_1\">\n      <defs>\n       <path d=\"M 0 0 \nL 0 3.5 \n\" id=\"m44135d236a\" style=\"stroke:#000000;stroke-width:0.8;\"/>\n      </defs>\n      <g>\n       <use style=\"stroke:#000000;stroke-width:0.8;\" x=\"93.859969\" xlink:href=\"#m44135d236a\" y=\"239.758125\"/>\n      </g>\n     </g>\n     <g id=\"text_1\">\n      <!-- 50 -->\n      <g transform=\"translate(87.497469 254.356562)scale(0.1 -0.1)\">\n       <defs>\n        <path d=\"M 10.796875 72.90625 \nL 49.515625 72.90625 \nL 49.515625 64.59375 \nL 19.828125 64.59375 \nL 19.828125 46.734375 \nQ 21.96875 47.46875 24.109375 47.828125 \nQ 26.265625 48.1875 28.421875 48.1875 \nQ 40.625 48.1875 47.75 41.5 \nQ 54.890625 34.8125 54.890625 23.390625 \nQ 54.890625 11.625 47.5625 5.09375 \nQ 40.234375 -1.421875 26.90625 -1.421875 \nQ 22.3125 -1.421875 17.546875 -0.640625 \nQ 12.796875 0.140625 7.71875 1.703125 \nL 7.71875 11.625 \nQ 12.109375 9.234375 16.796875 8.0625 \nQ 21.484375 6.890625 26.703125 6.890625 \nQ 35.15625 6.890625 40.078125 11.328125 \nQ 45.015625 15.765625 45.015625 23.390625 \nQ 45.015625 31 40.078125 35.4375 \nQ 35.15625 39.890625 26.703125 39.890625 \nQ 22.75 39.890625 18.8125 39.015625 \nQ 14.890625 38.140625 10.796875 36.28125 \nz\n\" id=\"DejaVuSans-53\"/>\n        <path d=\"M 31.78125 66.40625 \nQ 24.171875 66.40625 20.328125 58.90625 \nQ 16.5 51.421875 16.5 36.375 \nQ 16.5 21.390625 20.328125 13.890625 \nQ 24.171875 6.390625 31.78125 6.390625 \nQ 39.453125 6.390625 43.28125 13.890625 \nQ 47.125 21.390625 47.125 36.375 \nQ 47.125 51.421875 43.28125 58.90625 \nQ 39.453125 66.40625 31.78125 66.40625 \nz\nM 31.78125 74.21875 \nQ 44.046875 74.21875 50.515625 64.515625 \nQ 56.984375 54.828125 56.984375 36.375 \nQ 56.984375 17.96875 50.515625 8.265625 \nQ 44.046875 -1.421875 31.78125 -1.421875 \nQ 19.53125 -1.421875 13.0625 8.265625 \nQ 6.59375 17.96875 6.59375 36.375 \nQ 6.59375 54.828125 13.0625 64.515625 \nQ 19.53125 74.21875 31.78125 74.21875 \nz\n\" id=\"DejaVuSans-48\"/>\n       </defs>\n       <use xlink:href=\"#DejaVuSans-53\"/>\n       <use x=\"63.623047\" xlink:href=\"#DejaVuSans-48\"/>\n      </g>\n     </g>\n    </g>\n    <g id=\"xtick_2\">\n     <g id=\"line2d_2\">\n      <g>\n       <use style=\"stroke:#000000;stroke-width:0.8;\" x=\"149.198812\" xlink:href=\"#m44135d236a\" y=\"239.758125\"/>\n      </g>\n     </g>\n     <g id=\"text_2\">\n      <!-- 60 -->\n      <g transform=\"translate(142.836312 254.356562)scale(0.1 -0.1)\">\n       <defs>\n        <path d=\"M 33.015625 40.375 \nQ 26.375 40.375 22.484375 35.828125 \nQ 18.609375 31.296875 18.609375 23.390625 \nQ 18.609375 15.53125 22.484375 10.953125 \nQ 26.375 6.390625 33.015625 6.390625 \nQ 39.65625 6.390625 43.53125 10.953125 \nQ 47.40625 15.53125 47.40625 23.390625 \nQ 47.40625 31.296875 43.53125 35.828125 \nQ 39.65625 40.375 33.015625 40.375 \nz\nM 52.59375 71.296875 \nL 52.59375 62.3125 \nQ 48.875 64.0625 45.09375 64.984375 \nQ 41.3125 65.921875 37.59375 65.921875 \nQ 27.828125 65.921875 22.671875 59.328125 \nQ 17.53125 52.734375 16.796875 39.40625 \nQ 19.671875 43.65625 24.015625 45.921875 \nQ 28.375 48.1875 33.59375 48.1875 \nQ 44.578125 48.1875 50.953125 41.515625 \nQ 57.328125 34.859375 57.328125 23.390625 \nQ 57.328125 12.15625 50.6875 5.359375 \nQ 44.046875 -1.421875 33.015625 -1.421875 \nQ 20.359375 -1.421875 13.671875 8.265625 \nQ 6.984375 17.96875 6.984375 36.375 \nQ 6.984375 53.65625 15.1875 63.9375 \nQ 23.390625 74.21875 37.203125 74.21875 \nQ 40.921875 74.21875 44.703125 73.484375 \nQ 48.484375 72.75 52.59375 71.296875 \nz\n\" id=\"DejaVuSans-54\"/>\n       </defs>\n       <use xlink:href=\"#DejaVuSans-54\"/>\n       <use x=\"63.623047\" xlink:href=\"#DejaVuSans-48\"/>\n      </g>\n     </g>\n    </g>\n    <g id=\"xtick_3\">\n     <g id=\"line2d_3\">\n      <g>\n       <use style=\"stroke:#000000;stroke-width:0.8;\" x=\"204.537655\" xlink:href=\"#m44135d236a\" y=\"239.758125\"/>\n      </g>\n     </g>\n     <g id=\"text_3\">\n      <!-- 70 -->\n      <g transform=\"translate(198.175155 254.356562)scale(0.1 -0.1)\">\n       <defs>\n        <path d=\"M 8.203125 72.90625 \nL 55.078125 72.90625 \nL 55.078125 68.703125 \nL 28.609375 0 \nL 18.3125 0 \nL 43.21875 64.59375 \nL 8.203125 64.59375 \nz\n\" id=\"DejaVuSans-55\"/>\n       </defs>\n       <use xlink:href=\"#DejaVuSans-55\"/>\n       <use x=\"63.623047\" xlink:href=\"#DejaVuSans-48\"/>\n      </g>\n     </g>\n    </g>\n    <g id=\"xtick_4\">\n     <g id=\"line2d_4\">\n      <g>\n       <use style=\"stroke:#000000;stroke-width:0.8;\" x=\"259.876498\" xlink:href=\"#m44135d236a\" y=\"239.758125\"/>\n      </g>\n     </g>\n     <g id=\"text_4\">\n      <!-- 80 -->\n      <g transform=\"translate(253.513998 254.356562)scale(0.1 -0.1)\">\n       <defs>\n        <path d=\"M 31.78125 34.625 \nQ 24.75 34.625 20.71875 30.859375 \nQ 16.703125 27.09375 16.703125 20.515625 \nQ 16.703125 13.921875 20.71875 10.15625 \nQ 24.75 6.390625 31.78125 6.390625 \nQ 38.8125 6.390625 42.859375 10.171875 \nQ 46.921875 13.96875 46.921875 20.515625 \nQ 46.921875 27.09375 42.890625 30.859375 \nQ 38.875 34.625 31.78125 34.625 \nz\nM 21.921875 38.8125 \nQ 15.578125 40.375 12.03125 44.71875 \nQ 8.5 49.078125 8.5 55.328125 \nQ 8.5 64.0625 14.71875 69.140625 \nQ 20.953125 74.21875 31.78125 74.21875 \nQ 42.671875 74.21875 48.875 69.140625 \nQ 55.078125 64.0625 55.078125 55.328125 \nQ 55.078125 49.078125 51.53125 44.71875 \nQ 48 40.375 41.703125 38.8125 \nQ 48.828125 37.15625 52.796875 32.3125 \nQ 56.78125 27.484375 56.78125 20.515625 \nQ 56.78125 9.90625 50.3125 4.234375 \nQ 43.84375 -1.421875 31.78125 -1.421875 \nQ 19.734375 -1.421875 13.25 4.234375 \nQ 6.78125 9.90625 6.78125 20.515625 \nQ 6.78125 27.484375 10.78125 32.3125 \nQ 14.796875 37.15625 21.921875 38.8125 \nz\nM 18.3125 54.390625 \nQ 18.3125 48.734375 21.84375 45.5625 \nQ 25.390625 42.390625 31.78125 42.390625 \nQ 38.140625 42.390625 41.71875 45.5625 \nQ 45.3125 48.734375 45.3125 54.390625 \nQ 45.3125 60.0625 41.71875 63.234375 \nQ 38.140625 66.40625 31.78125 66.40625 \nQ 25.390625 66.40625 21.84375 63.234375 \nQ 18.3125 60.0625 18.3125 54.390625 \nz\n\" id=\"DejaVuSans-56\"/>\n       </defs>\n       <use xlink:href=\"#DejaVuSans-56\"/>\n       <use x=\"63.623047\" xlink:href=\"#DejaVuSans-48\"/>\n      </g>\n     </g>\n    </g>\n    <g id=\"xtick_5\">\n     <g id=\"line2d_5\">\n      <g>\n       <use style=\"stroke:#000000;stroke-width:0.8;\" x=\"315.215341\" xlink:href=\"#m44135d236a\" y=\"239.758125\"/>\n      </g>\n     </g>\n     <g id=\"text_5\">\n      <!-- 90 -->\n      <g transform=\"translate(308.852841 254.356562)scale(0.1 -0.1)\">\n       <defs>\n        <path d=\"M 10.984375 1.515625 \nL 10.984375 10.5 \nQ 14.703125 8.734375 18.5 7.8125 \nQ 22.3125 6.890625 25.984375 6.890625 \nQ 35.75 6.890625 40.890625 13.453125 \nQ 46.046875 20.015625 46.78125 33.40625 \nQ 43.953125 29.203125 39.59375 26.953125 \nQ 35.25 24.703125 29.984375 24.703125 \nQ 19.046875 24.703125 12.671875 31.3125 \nQ 6.296875 37.9375 6.296875 49.421875 \nQ 6.296875 60.640625 12.9375 67.421875 \nQ 19.578125 74.21875 30.609375 74.21875 \nQ 43.265625 74.21875 49.921875 64.515625 \nQ 56.59375 54.828125 56.59375 36.375 \nQ 56.59375 19.140625 48.40625 8.859375 \nQ 40.234375 -1.421875 26.421875 -1.421875 \nQ 22.703125 -1.421875 18.890625 -0.6875 \nQ 15.09375 0.046875 10.984375 1.515625 \nz\nM 30.609375 32.421875 \nQ 37.25 32.421875 41.125 36.953125 \nQ 45.015625 41.5 45.015625 49.421875 \nQ 45.015625 57.28125 41.125 61.84375 \nQ 37.25 66.40625 30.609375 66.40625 \nQ 23.96875 66.40625 20.09375 61.84375 \nQ 16.21875 57.28125 16.21875 49.421875 \nQ 16.21875 41.5 20.09375 36.953125 \nQ 23.96875 32.421875 30.609375 32.421875 \nz\n\" id=\"DejaVuSans-57\"/>\n       </defs>\n       <use xlink:href=\"#DejaVuSans-57\"/>\n       <use x=\"63.623047\" xlink:href=\"#DejaVuSans-48\"/>\n      </g>\n     </g>\n    </g>\n    <g id=\"xtick_6\">\n     <g id=\"line2d_6\">\n      <g>\n       <use style=\"stroke:#000000;stroke-width:0.8;\" x=\"370.554184\" xlink:href=\"#m44135d236a\" y=\"239.758125\"/>\n      </g>\n     </g>\n     <g id=\"text_6\">\n      <!-- 100 -->\n      <g transform=\"translate(361.010434 254.356562)scale(0.1 -0.1)\">\n       <defs>\n        <path d=\"M 12.40625 8.296875 \nL 28.515625 8.296875 \nL 28.515625 63.921875 \nL 10.984375 60.40625 \nL 10.984375 69.390625 \nL 28.421875 72.90625 \nL 38.28125 72.90625 \nL 38.28125 8.296875 \nL 54.390625 8.296875 \nL 54.390625 0 \nL 12.40625 0 \nz\n\" id=\"DejaVuSans-49\"/>\n       </defs>\n       <use xlink:href=\"#DejaVuSans-49\"/>\n       <use x=\"63.623047\" xlink:href=\"#DejaVuSans-48\"/>\n       <use x=\"127.246094\" xlink:href=\"#DejaVuSans-48\"/>\n      </g>\n     </g>\n    </g>\n    <g id=\"text_7\">\n     <!-- K Best Features -->\n     <g transform=\"translate(184.882812 268.034687)scale(0.1 -0.1)\">\n      <defs>\n       <path d=\"M 9.8125 72.90625 \nL 19.671875 72.90625 \nL 19.671875 42.09375 \nL 52.390625 72.90625 \nL 65.09375 72.90625 \nL 28.90625 38.921875 \nL 67.671875 0 \nL 54.6875 0 \nL 19.671875 35.109375 \nL 19.671875 0 \nL 9.8125 0 \nz\n\" id=\"DejaVuSans-75\"/>\n       <path id=\"DejaVuSans-32\"/>\n       <path d=\"M 19.671875 34.8125 \nL 19.671875 8.109375 \nL 35.5 8.109375 \nQ 43.453125 8.109375 47.28125 11.40625 \nQ 51.125 14.703125 51.125 21.484375 \nQ 51.125 28.328125 47.28125 31.5625 \nQ 43.453125 34.8125 35.5 34.8125 \nz\nM 19.671875 64.796875 \nL 19.671875 42.828125 \nL 34.28125 42.828125 \nQ 41.5 42.828125 45.03125 45.53125 \nQ 48.578125 48.25 48.578125 53.8125 \nQ 48.578125 59.328125 45.03125 62.0625 \nQ 41.5 64.796875 34.28125 64.796875 \nz\nM 9.8125 72.90625 \nL 35.015625 72.90625 \nQ 46.296875 72.90625 52.390625 68.21875 \nQ 58.5 63.53125 58.5 54.890625 \nQ 58.5 48.1875 55.375 44.234375 \nQ 52.25 40.28125 46.1875 39.3125 \nQ 53.46875 37.75 57.5 32.78125 \nQ 61.53125 27.828125 61.53125 20.40625 \nQ 61.53125 10.640625 54.890625 5.3125 \nQ 48.25 0 35.984375 0 \nL 9.8125 0 \nz\n\" id=\"DejaVuSans-66\"/>\n       <path d=\"M 56.203125 29.59375 \nL 56.203125 25.203125 \nL 14.890625 25.203125 \nQ 15.484375 15.921875 20.484375 11.0625 \nQ 25.484375 6.203125 34.421875 6.203125 \nQ 39.59375 6.203125 44.453125 7.46875 \nQ 49.3125 8.734375 54.109375 11.28125 \nL 54.109375 2.78125 \nQ 49.265625 0.734375 44.1875 -0.34375 \nQ 39.109375 -1.421875 33.890625 -1.421875 \nQ 20.796875 -1.421875 13.15625 6.1875 \nQ 5.515625 13.8125 5.515625 26.8125 \nQ 5.515625 40.234375 12.765625 48.109375 \nQ 20.015625 56 32.328125 56 \nQ 43.359375 56 49.78125 48.890625 \nQ 56.203125 41.796875 56.203125 29.59375 \nz\nM 47.21875 32.234375 \nQ 47.125 39.59375 43.09375 43.984375 \nQ 39.0625 48.390625 32.421875 48.390625 \nQ 24.90625 48.390625 20.390625 44.140625 \nQ 15.875 39.890625 15.1875 32.171875 \nz\n\" id=\"DejaVuSans-101\"/>\n       <path d=\"M 44.28125 53.078125 \nL 44.28125 44.578125 \nQ 40.484375 46.53125 36.375 47.5 \nQ 32.28125 48.484375 27.875 48.484375 \nQ 21.1875 48.484375 17.84375 46.4375 \nQ 14.5 44.390625 14.5 40.28125 \nQ 14.5 37.15625 16.890625 35.375 \nQ 19.28125 33.59375 26.515625 31.984375 \nL 29.59375 31.296875 \nQ 39.15625 29.25 43.1875 25.515625 \nQ 47.21875 21.78125 47.21875 15.09375 \nQ 47.21875 7.46875 41.1875 3.015625 \nQ 35.15625 -1.421875 24.609375 -1.421875 \nQ 20.21875 -1.421875 15.453125 -0.5625 \nQ 10.6875 0.296875 5.421875 2 \nL 5.421875 11.28125 \nQ 10.40625 8.6875 15.234375 7.390625 \nQ 20.0625 6.109375 24.8125 6.109375 \nQ 31.15625 6.109375 34.5625 8.28125 \nQ 37.984375 10.453125 37.984375 14.40625 \nQ 37.984375 18.0625 35.515625 20.015625 \nQ 33.0625 21.96875 24.703125 23.78125 \nL 21.578125 24.515625 \nQ 13.234375 26.265625 9.515625 29.90625 \nQ 5.8125 33.546875 5.8125 39.890625 \nQ 5.8125 47.609375 11.28125 51.796875 \nQ 16.75 56 26.8125 56 \nQ 31.78125 56 36.171875 55.265625 \nQ 40.578125 54.546875 44.28125 53.078125 \nz\n\" id=\"DejaVuSans-115\"/>\n       <path d=\"M 18.3125 70.21875 \nL 18.3125 54.6875 \nL 36.8125 54.6875 \nL 36.8125 47.703125 \nL 18.3125 47.703125 \nL 18.3125 18.015625 \nQ 18.3125 11.328125 20.140625 9.421875 \nQ 21.96875 7.515625 27.59375 7.515625 \nL 36.8125 7.515625 \nL 36.8125 0 \nL 27.59375 0 \nQ 17.1875 0 13.234375 3.875 \nQ 9.28125 7.765625 9.28125 18.015625 \nL 9.28125 47.703125 \nL 2.6875 47.703125 \nL 2.6875 54.6875 \nL 9.28125 54.6875 \nL 9.28125 70.21875 \nz\n\" id=\"DejaVuSans-116\"/>\n       <path d=\"M 9.8125 72.90625 \nL 51.703125 72.90625 \nL 51.703125 64.59375 \nL 19.671875 64.59375 \nL 19.671875 43.109375 \nL 48.578125 43.109375 \nL 48.578125 34.8125 \nL 19.671875 34.8125 \nL 19.671875 0 \nL 9.8125 0 \nz\n\" id=\"DejaVuSans-70\"/>\n       <path d=\"M 34.28125 27.484375 \nQ 23.390625 27.484375 19.1875 25 \nQ 14.984375 22.515625 14.984375 16.5 \nQ 14.984375 11.71875 18.140625 8.90625 \nQ 21.296875 6.109375 26.703125 6.109375 \nQ 34.1875 6.109375 38.703125 11.40625 \nQ 43.21875 16.703125 43.21875 25.484375 \nL 43.21875 27.484375 \nz\nM 52.203125 31.203125 \nL 52.203125 0 \nL 43.21875 0 \nL 43.21875 8.296875 \nQ 40.140625 3.328125 35.546875 0.953125 \nQ 30.953125 -1.421875 24.3125 -1.421875 \nQ 15.921875 -1.421875 10.953125 3.296875 \nQ 6 8.015625 6 15.921875 \nQ 6 25.140625 12.171875 29.828125 \nQ 18.359375 34.515625 30.609375 34.515625 \nL 43.21875 34.515625 \nL 43.21875 35.40625 \nQ 43.21875 41.609375 39.140625 45 \nQ 35.0625 48.390625 27.6875 48.390625 \nQ 23 48.390625 18.546875 47.265625 \nQ 14.109375 46.140625 10.015625 43.890625 \nL 10.015625 52.203125 \nQ 14.9375 54.109375 19.578125 55.046875 \nQ 24.21875 56 28.609375 56 \nQ 40.484375 56 46.34375 49.84375 \nQ 52.203125 43.703125 52.203125 31.203125 \nz\n\" id=\"DejaVuSans-97\"/>\n       <path d=\"M 8.5 21.578125 \nL 8.5 54.6875 \nL 17.484375 54.6875 \nL 17.484375 21.921875 \nQ 17.484375 14.15625 20.5 10.265625 \nQ 23.53125 6.390625 29.59375 6.390625 \nQ 36.859375 6.390625 41.078125 11.03125 \nQ 45.3125 15.671875 45.3125 23.6875 \nL 45.3125 54.6875 \nL 54.296875 54.6875 \nL 54.296875 0 \nL 45.3125 0 \nL 45.3125 8.40625 \nQ 42.046875 3.421875 37.71875 1 \nQ 33.40625 -1.421875 27.6875 -1.421875 \nQ 18.265625 -1.421875 13.375 4.4375 \nQ 8.5 10.296875 8.5 21.578125 \nz\nM 31.109375 56 \nz\n\" id=\"DejaVuSans-117\"/>\n       <path d=\"M 41.109375 46.296875 \nQ 39.59375 47.171875 37.8125 47.578125 \nQ 36.03125 48 33.890625 48 \nQ 26.265625 48 22.1875 43.046875 \nQ 18.109375 38.09375 18.109375 28.8125 \nL 18.109375 0 \nL 9.078125 0 \nL 9.078125 54.6875 \nL 18.109375 54.6875 \nL 18.109375 46.1875 \nQ 20.953125 51.171875 25.484375 53.578125 \nQ 30.03125 56 36.53125 56 \nQ 37.453125 56 38.578125 55.875 \nQ 39.703125 55.765625 41.0625 55.515625 \nz\n\" id=\"DejaVuSans-114\"/>\n      </defs>\n      <use xlink:href=\"#DejaVuSans-75\"/>\n      <use x=\"65.576172\" xlink:href=\"#DejaVuSans-32\"/>\n      <use x=\"97.363281\" xlink:href=\"#DejaVuSans-66\"/>\n      <use x=\"165.966797\" xlink:href=\"#DejaVuSans-101\"/>\n      <use x=\"227.490234\" xlink:href=\"#DejaVuSans-115\"/>\n      <use x=\"279.589844\" xlink:href=\"#DejaVuSans-116\"/>\n      <use x=\"318.798828\" xlink:href=\"#DejaVuSans-32\"/>\n      <use x=\"350.585938\" xlink:href=\"#DejaVuSans-70\"/>\n      <use x=\"402.605469\" xlink:href=\"#DejaVuSans-101\"/>\n      <use x=\"464.128906\" xlink:href=\"#DejaVuSans-97\"/>\n      <use x=\"525.408203\" xlink:href=\"#DejaVuSans-116\"/>\n      <use x=\"564.617188\" xlink:href=\"#DejaVuSans-117\"/>\n      <use x=\"627.996094\" xlink:href=\"#DejaVuSans-114\"/>\n      <use x=\"666.859375\" xlink:href=\"#DejaVuSans-101\"/>\n      <use x=\"728.382812\" xlink:href=\"#DejaVuSans-115\"/>\n     </g>\n    </g>\n   </g>\n   <g id=\"matplotlib.axis_2\">\n    <g id=\"ytick_1\">\n     <g id=\"line2d_7\">\n      <defs>\n       <path d=\"M 0 0 \nL -3.5 0 \n\" id=\"me0ba885924\" style=\"stroke:#000000;stroke-width:0.8;\"/>\n      </defs>\n      <g>\n       <use style=\"stroke:#000000;stroke-width:0.8;\" x=\"56.50625\" xlink:href=\"#me0ba885924\" y=\"226.280439\"/>\n      </g>\n     </g>\n     <g id=\"text_8\">\n      <!-- 0.640 -->\n      <g transform=\"translate(20.878125 230.079658)scale(0.1 -0.1)\">\n       <defs>\n        <path d=\"M 10.6875 12.40625 \nL 21 12.40625 \nL 21 0 \nL 10.6875 0 \nz\n\" id=\"DejaVuSans-46\"/>\n        <path d=\"M 37.796875 64.3125 \nL 12.890625 25.390625 \nL 37.796875 25.390625 \nz\nM 35.203125 72.90625 \nL 47.609375 72.90625 \nL 47.609375 25.390625 \nL 58.015625 25.390625 \nL 58.015625 17.1875 \nL 47.609375 17.1875 \nL 47.609375 0 \nL 37.796875 0 \nL 37.796875 17.1875 \nL 4.890625 17.1875 \nL 4.890625 26.703125 \nz\n\" id=\"DejaVuSans-52\"/>\n       </defs>\n       <use xlink:href=\"#DejaVuSans-48\"/>\n       <use x=\"63.623047\" xlink:href=\"#DejaVuSans-46\"/>\n       <use x=\"95.410156\" xlink:href=\"#DejaVuSans-54\"/>\n       <use x=\"159.033203\" xlink:href=\"#DejaVuSans-52\"/>\n       <use x=\"222.65625\" xlink:href=\"#DejaVuSans-48\"/>\n      </g>\n     </g>\n    </g>\n    <g id=\"ytick_2\">\n     <g id=\"line2d_8\">\n      <g>\n       <use style=\"stroke:#000000;stroke-width:0.8;\" x=\"56.50625\" xlink:href=\"#me0ba885924\" y=\"187.644406\"/>\n      </g>\n     </g>\n     <g id=\"text_9\">\n      <!-- 0.645 -->\n      <g transform=\"translate(20.878125 191.443625)scale(0.1 -0.1)\">\n       <use xlink:href=\"#DejaVuSans-48\"/>\n       <use x=\"63.623047\" xlink:href=\"#DejaVuSans-46\"/>\n       <use x=\"95.410156\" xlink:href=\"#DejaVuSans-54\"/>\n       <use x=\"159.033203\" xlink:href=\"#DejaVuSans-52\"/>\n       <use x=\"222.65625\" xlink:href=\"#DejaVuSans-53\"/>\n      </g>\n     </g>\n    </g>\n    <g id=\"ytick_3\">\n     <g id=\"line2d_9\">\n      <g>\n       <use style=\"stroke:#000000;stroke-width:0.8;\" x=\"56.50625\" xlink:href=\"#me0ba885924\" y=\"149.008373\"/>\n      </g>\n     </g>\n     <g id=\"text_10\">\n      <!-- 0.650 -->\n      <g transform=\"translate(20.878125 152.807592)scale(0.1 -0.1)\">\n       <use xlink:href=\"#DejaVuSans-48\"/>\n       <use x=\"63.623047\" xlink:href=\"#DejaVuSans-46\"/>\n       <use x=\"95.410156\" xlink:href=\"#DejaVuSans-54\"/>\n       <use x=\"159.033203\" xlink:href=\"#DejaVuSans-53\"/>\n       <use x=\"222.65625\" xlink:href=\"#DejaVuSans-48\"/>\n      </g>\n     </g>\n    </g>\n    <g id=\"ytick_4\">\n     <g id=\"line2d_10\">\n      <g>\n       <use style=\"stroke:#000000;stroke-width:0.8;\" x=\"56.50625\" xlink:href=\"#me0ba885924\" y=\"110.37234\"/>\n      </g>\n     </g>\n     <g id=\"text_11\">\n      <!-- 0.655 -->\n      <g transform=\"translate(20.878125 114.171559)scale(0.1 -0.1)\">\n       <use xlink:href=\"#DejaVuSans-48\"/>\n       <use x=\"63.623047\" xlink:href=\"#DejaVuSans-46\"/>\n       <use x=\"95.410156\" xlink:href=\"#DejaVuSans-54\"/>\n       <use x=\"159.033203\" xlink:href=\"#DejaVuSans-53\"/>\n       <use x=\"222.65625\" xlink:href=\"#DejaVuSans-53\"/>\n      </g>\n     </g>\n    </g>\n    <g id=\"ytick_5\">\n     <g id=\"line2d_11\">\n      <g>\n       <use style=\"stroke:#000000;stroke-width:0.8;\" x=\"56.50625\" xlink:href=\"#me0ba885924\" y=\"71.736307\"/>\n      </g>\n     </g>\n     <g id=\"text_12\">\n      <!-- 0.660 -->\n      <g transform=\"translate(20.878125 75.535526)scale(0.1 -0.1)\">\n       <use xlink:href=\"#DejaVuSans-48\"/>\n       <use x=\"63.623047\" xlink:href=\"#DejaVuSans-46\"/>\n       <use x=\"95.410156\" xlink:href=\"#DejaVuSans-54\"/>\n       <use x=\"159.033203\" xlink:href=\"#DejaVuSans-54\"/>\n       <use x=\"222.65625\" xlink:href=\"#DejaVuSans-48\"/>\n      </g>\n     </g>\n    </g>\n    <g id=\"ytick_6\">\n     <g id=\"line2d_12\">\n      <g>\n       <use style=\"stroke:#000000;stroke-width:0.8;\" x=\"56.50625\" xlink:href=\"#me0ba885924\" y=\"33.100274\"/>\n      </g>\n     </g>\n     <g id=\"text_13\">\n      <!-- 0.665 -->\n      <g transform=\"translate(20.878125 36.899493)scale(0.1 -0.1)\">\n       <use xlink:href=\"#DejaVuSans-48\"/>\n       <use x=\"63.623047\" xlink:href=\"#DejaVuSans-46\"/>\n       <use x=\"95.410156\" xlink:href=\"#DejaVuSans-54\"/>\n       <use x=\"159.033203\" xlink:href=\"#DejaVuSans-54\"/>\n       <use x=\"222.65625\" xlink:href=\"#DejaVuSans-53\"/>\n      </g>\n     </g>\n    </g>\n    <g id=\"text_14\">\n     <!-- Mean Accuracy -->\n     <g transform=\"translate(14.798437 169.07875)rotate(-90)scale(0.1 -0.1)\">\n      <defs>\n       <path d=\"M 9.8125 72.90625 \nL 24.515625 72.90625 \nL 43.109375 23.296875 \nL 61.8125 72.90625 \nL 76.515625 72.90625 \nL 76.515625 0 \nL 66.890625 0 \nL 66.890625 64.015625 \nL 48.09375 14.015625 \nL 38.1875 14.015625 \nL 19.390625 64.015625 \nL 19.390625 0 \nL 9.8125 0 \nz\n\" id=\"DejaVuSans-77\"/>\n       <path d=\"M 54.890625 33.015625 \nL 54.890625 0 \nL 45.90625 0 \nL 45.90625 32.71875 \nQ 45.90625 40.484375 42.875 44.328125 \nQ 39.84375 48.1875 33.796875 48.1875 \nQ 26.515625 48.1875 22.3125 43.546875 \nQ 18.109375 38.921875 18.109375 30.90625 \nL 18.109375 0 \nL 9.078125 0 \nL 9.078125 54.6875 \nL 18.109375 54.6875 \nL 18.109375 46.1875 \nQ 21.34375 51.125 25.703125 53.5625 \nQ 30.078125 56 35.796875 56 \nQ 45.21875 56 50.046875 50.171875 \nQ 54.890625 44.34375 54.890625 33.015625 \nz\n\" id=\"DejaVuSans-110\"/>\n       <path d=\"M 34.1875 63.1875 \nL 20.796875 26.90625 \nL 47.609375 26.90625 \nz\nM 28.609375 72.90625 \nL 39.796875 72.90625 \nL 67.578125 0 \nL 57.328125 0 \nL 50.6875 18.703125 \nL 17.828125 18.703125 \nL 11.1875 0 \nL 0.78125 0 \nz\n\" id=\"DejaVuSans-65\"/>\n       <path d=\"M 48.78125 52.59375 \nL 48.78125 44.1875 \nQ 44.96875 46.296875 41.140625 47.34375 \nQ 37.3125 48.390625 33.40625 48.390625 \nQ 24.65625 48.390625 19.8125 42.84375 \nQ 14.984375 37.3125 14.984375 27.296875 \nQ 14.984375 17.28125 19.8125 11.734375 \nQ 24.65625 6.203125 33.40625 6.203125 \nQ 37.3125 6.203125 41.140625 7.25 \nQ 44.96875 8.296875 48.78125 10.40625 \nL 48.78125 2.09375 \nQ 45.015625 0.34375 40.984375 -0.53125 \nQ 36.96875 -1.421875 32.421875 -1.421875 \nQ 20.0625 -1.421875 12.78125 6.34375 \nQ 5.515625 14.109375 5.515625 27.296875 \nQ 5.515625 40.671875 12.859375 48.328125 \nQ 20.21875 56 33.015625 56 \nQ 37.15625 56 41.109375 55.140625 \nQ 45.0625 54.296875 48.78125 52.59375 \nz\n\" id=\"DejaVuSans-99\"/>\n       <path d=\"M 32.171875 -5.078125 \nQ 28.375 -14.84375 24.75 -17.8125 \nQ 21.140625 -20.796875 15.09375 -20.796875 \nL 7.90625 -20.796875 \nL 7.90625 -13.28125 \nL 13.1875 -13.28125 \nQ 16.890625 -13.28125 18.9375 -11.515625 \nQ 21 -9.765625 23.484375 -3.21875 \nL 25.09375 0.875 \nL 2.984375 54.6875 \nL 12.5 54.6875 \nL 29.59375 11.921875 \nL 46.6875 54.6875 \nL 56.203125 54.6875 \nz\n\" id=\"DejaVuSans-121\"/>\n      </defs>\n      <use xlink:href=\"#DejaVuSans-77\"/>\n      <use x=\"86.279297\" xlink:href=\"#DejaVuSans-101\"/>\n      <use x=\"147.802734\" xlink:href=\"#DejaVuSans-97\"/>\n      <use x=\"209.082031\" xlink:href=\"#DejaVuSans-110\"/>\n      <use x=\"272.460938\" xlink:href=\"#DejaVuSans-32\"/>\n      <use x=\"304.248047\" xlink:href=\"#DejaVuSans-65\"/>\n      <use x=\"370.90625\" xlink:href=\"#DejaVuSans-99\"/>\n      <use x=\"425.886719\" xlink:href=\"#DejaVuSans-99\"/>\n      <use x=\"480.867188\" xlink:href=\"#DejaVuSans-117\"/>\n      <use x=\"544.246094\" xlink:href=\"#DejaVuSans-114\"/>\n      <use x=\"585.359375\" xlink:href=\"#DejaVuSans-97\"/>\n      <use x=\"646.638672\" xlink:href=\"#DejaVuSans-99\"/>\n      <use x=\"701.619141\" xlink:href=\"#DejaVuSans-121\"/>\n     </g>\n    </g>\n   </g>\n   <g id=\"line2d_13\">\n    <path clip-path=\"url(#p1d0550cafa)\" d=\"M 71.724432 229.874489 \nL 99.393853 104.082753 \nL 127.063275 68.142257 \nL 154.732696 32.201761 \nL 182.402118 32.201761 \nL 210.071539 32.201761 \nL 237.740961 68.142257 \nL 265.410382 50.172009 \nL 293.079804 50.172009 \nL 320.749225 50.172009 \nL 348.418647 32.201761 \nL 376.088068 32.201761 \n\" style=\"fill:none;stroke:#1f77b4;stroke-linecap:square;stroke-width:1.5;\"/>\n   </g>\n   <g id=\"patch_3\">\n    <path d=\"M 56.50625 239.758125 \nL 56.50625 22.318125 \n\" style=\"fill:none;stroke:#000000;stroke-linecap:square;stroke-linejoin:miter;stroke-width:0.8;\"/>\n   </g>\n   <g id=\"patch_4\">\n    <path d=\"M 391.30625 239.758125 \nL 391.30625 22.318125 \n\" style=\"fill:none;stroke:#000000;stroke-linecap:square;stroke-linejoin:miter;stroke-width:0.8;\"/>\n   </g>\n   <g id=\"patch_5\">\n    <path d=\"M 56.50625 239.758125 \nL 391.30625 239.758125 \n\" style=\"fill:none;stroke:#000000;stroke-linecap:square;stroke-linejoin:miter;stroke-width:0.8;\"/>\n   </g>\n   <g id=\"patch_6\">\n    <path d=\"M 56.50625 22.318125 \nL 391.30625 22.318125 \n\" style=\"fill:none;stroke:#000000;stroke-linecap:square;stroke-linejoin:miter;stroke-width:0.8;\"/>\n   </g>\n   <g id=\"text_15\">\n    <!-- Multinomial Logistic Regression -->\n    <g transform=\"translate(129.454063 16.318125)scale(0.12 -0.12)\">\n     <defs>\n      <path d=\"M 9.421875 75.984375 \nL 18.40625 75.984375 \nL 18.40625 0 \nL 9.421875 0 \nz\n\" id=\"DejaVuSans-108\"/>\n      <path d=\"M 9.421875 54.6875 \nL 18.40625 54.6875 \nL 18.40625 0 \nL 9.421875 0 \nz\nM 9.421875 75.984375 \nL 18.40625 75.984375 \nL 18.40625 64.59375 \nL 9.421875 64.59375 \nz\n\" id=\"DejaVuSans-105\"/>\n      <path d=\"M 30.609375 48.390625 \nQ 23.390625 48.390625 19.1875 42.75 \nQ 14.984375 37.109375 14.984375 27.296875 \nQ 14.984375 17.484375 19.15625 11.84375 \nQ 23.34375 6.203125 30.609375 6.203125 \nQ 37.796875 6.203125 41.984375 11.859375 \nQ 46.1875 17.53125 46.1875 27.296875 \nQ 46.1875 37.015625 41.984375 42.703125 \nQ 37.796875 48.390625 30.609375 48.390625 \nz\nM 30.609375 56 \nQ 42.328125 56 49.015625 48.375 \nQ 55.71875 40.765625 55.71875 27.296875 \nQ 55.71875 13.875 49.015625 6.21875 \nQ 42.328125 -1.421875 30.609375 -1.421875 \nQ 18.84375 -1.421875 12.171875 6.21875 \nQ 5.515625 13.875 5.515625 27.296875 \nQ 5.515625 40.765625 12.171875 48.375 \nQ 18.84375 56 30.609375 56 \nz\n\" id=\"DejaVuSans-111\"/>\n      <path d=\"M 52 44.1875 \nQ 55.375 50.25 60.0625 53.125 \nQ 64.75 56 71.09375 56 \nQ 79.640625 56 84.28125 50.015625 \nQ 88.921875 44.046875 88.921875 33.015625 \nL 88.921875 0 \nL 79.890625 0 \nL 79.890625 32.71875 \nQ 79.890625 40.578125 77.09375 44.375 \nQ 74.3125 48.1875 68.609375 48.1875 \nQ 61.625 48.1875 57.5625 43.546875 \nQ 53.515625 38.921875 53.515625 30.90625 \nL 53.515625 0 \nL 44.484375 0 \nL 44.484375 32.71875 \nQ 44.484375 40.625 41.703125 44.40625 \nQ 38.921875 48.1875 33.109375 48.1875 \nQ 26.21875 48.1875 22.15625 43.53125 \nQ 18.109375 38.875 18.109375 30.90625 \nL 18.109375 0 \nL 9.078125 0 \nL 9.078125 54.6875 \nL 18.109375 54.6875 \nL 18.109375 46.1875 \nQ 21.1875 51.21875 25.484375 53.609375 \nQ 29.78125 56 35.6875 56 \nQ 41.65625 56 45.828125 52.96875 \nQ 50 49.953125 52 44.1875 \nz\n\" id=\"DejaVuSans-109\"/>\n      <path d=\"M 9.8125 72.90625 \nL 19.671875 72.90625 \nL 19.671875 8.296875 \nL 55.171875 8.296875 \nL 55.171875 0 \nL 9.8125 0 \nz\n\" id=\"DejaVuSans-76\"/>\n      <path d=\"M 45.40625 27.984375 \nQ 45.40625 37.75 41.375 43.109375 \nQ 37.359375 48.484375 30.078125 48.484375 \nQ 22.859375 48.484375 18.828125 43.109375 \nQ 14.796875 37.75 14.796875 27.984375 \nQ 14.796875 18.265625 18.828125 12.890625 \nQ 22.859375 7.515625 30.078125 7.515625 \nQ 37.359375 7.515625 41.375 12.890625 \nQ 45.40625 18.265625 45.40625 27.984375 \nz\nM 54.390625 6.78125 \nQ 54.390625 -7.171875 48.1875 -13.984375 \nQ 42 -20.796875 29.203125 -20.796875 \nQ 24.46875 -20.796875 20.265625 -20.09375 \nQ 16.0625 -19.390625 12.109375 -17.921875 \nL 12.109375 -9.1875 \nQ 16.0625 -11.328125 19.921875 -12.34375 \nQ 23.78125 -13.375 27.78125 -13.375 \nQ 36.625 -13.375 41.015625 -8.765625 \nQ 45.40625 -4.15625 45.40625 5.171875 \nL 45.40625 9.625 \nQ 42.625 4.78125 38.28125 2.390625 \nQ 33.9375 0 27.875 0 \nQ 17.828125 0 11.671875 7.65625 \nQ 5.515625 15.328125 5.515625 27.984375 \nQ 5.515625 40.671875 11.671875 48.328125 \nQ 17.828125 56 27.875 56 \nQ 33.9375 56 38.28125 53.609375 \nQ 42.625 51.21875 45.40625 46.390625 \nL 45.40625 54.6875 \nL 54.390625 54.6875 \nz\n\" id=\"DejaVuSans-103\"/>\n      <path d=\"M 44.390625 34.1875 \nQ 47.5625 33.109375 50.5625 29.59375 \nQ 53.5625 26.078125 56.59375 19.921875 \nL 66.609375 0 \nL 56 0 \nL 46.6875 18.703125 \nQ 43.0625 26.03125 39.671875 28.421875 \nQ 36.28125 30.8125 30.421875 30.8125 \nL 19.671875 30.8125 \nL 19.671875 0 \nL 9.8125 0 \nL 9.8125 72.90625 \nL 32.078125 72.90625 \nQ 44.578125 72.90625 50.734375 67.671875 \nQ 56.890625 62.453125 56.890625 51.90625 \nQ 56.890625 45.015625 53.6875 40.46875 \nQ 50.484375 35.9375 44.390625 34.1875 \nz\nM 19.671875 64.796875 \nL 19.671875 38.921875 \nL 32.078125 38.921875 \nQ 39.203125 38.921875 42.84375 42.21875 \nQ 46.484375 45.515625 46.484375 51.90625 \nQ 46.484375 58.296875 42.84375 61.546875 \nQ 39.203125 64.796875 32.078125 64.796875 \nz\n\" id=\"DejaVuSans-82\"/>\n     </defs>\n     <use xlink:href=\"#DejaVuSans-77\"/>\n     <use x=\"86.279297\" xlink:href=\"#DejaVuSans-117\"/>\n     <use x=\"149.658203\" xlink:href=\"#DejaVuSans-108\"/>\n     <use x=\"177.441406\" xlink:href=\"#DejaVuSans-116\"/>\n     <use x=\"216.650391\" xlink:href=\"#DejaVuSans-105\"/>\n     <use x=\"244.433594\" xlink:href=\"#DejaVuSans-110\"/>\n     <use x=\"307.8125\" xlink:href=\"#DejaVuSans-111\"/>\n     <use x=\"368.994141\" xlink:href=\"#DejaVuSans-109\"/>\n     <use x=\"466.40625\" xlink:href=\"#DejaVuSans-105\"/>\n     <use x=\"494.189453\" xlink:href=\"#DejaVuSans-97\"/>\n     <use x=\"555.46875\" xlink:href=\"#DejaVuSans-108\"/>\n     <use x=\"583.251953\" xlink:href=\"#DejaVuSans-32\"/>\n     <use x=\"615.039062\" xlink:href=\"#DejaVuSans-76\"/>\n     <use x=\"669.001953\" xlink:href=\"#DejaVuSans-111\"/>\n     <use x=\"730.183594\" xlink:href=\"#DejaVuSans-103\"/>\n     <use x=\"793.660156\" xlink:href=\"#DejaVuSans-105\"/>\n     <use x=\"821.443359\" xlink:href=\"#DejaVuSans-115\"/>\n     <use x=\"873.542969\" xlink:href=\"#DejaVuSans-116\"/>\n     <use x=\"912.751953\" xlink:href=\"#DejaVuSans-105\"/>\n     <use x=\"940.535156\" xlink:href=\"#DejaVuSans-99\"/>\n     <use x=\"995.515625\" xlink:href=\"#DejaVuSans-32\"/>\n     <use x=\"1027.302734\" xlink:href=\"#DejaVuSans-82\"/>\n     <use x=\"1092.285156\" xlink:href=\"#DejaVuSans-101\"/>\n     <use x=\"1153.808594\" xlink:href=\"#DejaVuSans-103\"/>\n     <use x=\"1217.285156\" xlink:href=\"#DejaVuSans-114\"/>\n     <use x=\"1256.148438\" xlink:href=\"#DejaVuSans-101\"/>\n     <use x=\"1317.671875\" xlink:href=\"#DejaVuSans-115\"/>\n     <use x=\"1369.771484\" xlink:href=\"#DejaVuSans-115\"/>\n     <use x=\"1421.871094\" xlink:href=\"#DejaVuSans-105\"/>\n     <use x=\"1449.654297\" xlink:href=\"#DejaVuSans-111\"/>\n     <use x=\"1510.835938\" xlink:href=\"#DejaVuSans-110\"/>\n    </g>\n   </g>\n  </g>\n </g>\n <defs>\n  <clipPath id=\"p1d0550cafa\">\n   <rect height=\"217.44\" width=\"334.8\" x=\"56.50625\" y=\"22.318125\"/>\n  </clipPath>\n </defs>\n</svg>\n",
      "image/png": "[encoded data removed]"
     },
     "metadata": {
      "needs_background": "light"
     }
    }
   ],
   "source": [
    "scores = []\n",
    "\n",
    "for m in models:\n",
    "    scores.append(m.best_score_)\n",
    "\n",
    "plt.title(\"Multinomial Logistic Regression\")\n",
    "plt.xlabel(\"K Best Features\")\n",
    "plt.ylabel(\"Mean Accuracy\")\n",
    "\n",
    "plt.plot(list(range(46, 102, 5)), scores)"
   ]
  },
  {
   "cell_type": "code",
   "execution_count": 49,
   "metadata": {},
   "outputs": [
    {
     "output_type": "execute_result",
     "data": {
      "text/plain": [
       "{'C': 0.012742749857031334,\n",
       " 'max_iter': 10000,\n",
       " 'multi_class': 'multinomial',\n",
       " 'penalty': 'l2',\n",
       " 'solver': 'lbfgs'}"
      ]
     },
     "metadata": {},
     "execution_count": 49
    }
   ],
   "source": [
    "models[len(models) - 1].best_params_\n",
    "\n"
   ]
  },
  {
   "cell_type": "code",
   "execution_count": 50,
   "metadata": {},
   "outputs": [
    {
     "output_type": "execute_result",
     "data": {
      "text/plain": [
       "LogisticRegression(C=0.012742749857031334, max_iter=10000,\n",
       "                   multi_class='multinomial')"
      ]
     },
     "metadata": {},
     "execution_count": 50
    }
   ],
   "source": [
    "y = np.array(df[\"class4\"])\n",
    "X = np.array(df.drop(columns=[\"class4\", \"class2\", \"month\"]))\n",
    "\n",
    "lrm = LogisticRegression(\n",
    "    C = 0.012742749857031334,\n",
    "    max_iter = 10000,\n",
    "    multi_class = 'multinomial',\n",
    "    penalty = 'l2',\n",
    "    solver = 'lbfgs')\n",
    "\n",
    "lrm.fit(X, y)"
   ]
  },
  {
   "cell_type": "code",
   "execution_count": 74,
   "metadata": {},
   "outputs": [],
   "source": [
    "# binary accuracy from the multiclass model\n",
    "\n",
    "preds = lrm.predict(X)\n",
    "\n",
    "correct = 0\n",
    "for i in range(0, len(preds)):\n",
    "    if (preds[i] == 'nonevent' and y[i] == 'nonevent') or (preds[i] != 'nonevent' and y[i] != 'nonevent'):\n",
    "        correct += 1\n",
    "\n",
    "acc = correct / len(preds)"
   ]
  },
  {
   "cell_type": "code",
   "execution_count": 75,
   "metadata": {},
   "outputs": [
    {
     "output_type": "execute_result",
     "data": {
      "text/plain": [
       "0.886"
      ]
     },
     "metadata": {},
     "execution_count": 75
    }
   ],
   "source": [
    "acc_rounded = round(acc, 3)\n",
    "acc_rounded"
   ]
  },
  {
   "cell_type": "code",
   "execution_count": 51,
   "metadata": {},
   "outputs": [
    {
     "output_type": "execute_result",
     "data": {
      "text/plain": [
       "'II'"
      ]
     },
     "metadata": {},
     "execution_count": 51
    }
   ],
   "source": [
    "# Predict class4 by getting the majority class from the training data\n",
    "# Filter the nonevents from the array, then count unique events and return one that has most counts\n",
    "classes = np.array(df[\"class4\"])\n",
    "events = np.where(classes != 'nonevent')\n",
    "(values,counts) = np.unique(classes[events],return_counts=True)\n",
    "ind=np.argmax(counts)\n",
    "class4_pred = values[ind]\n",
    "class4_pred"
   ]
  },
  {
   "cell_type": "code",
   "execution_count": 52,
   "metadata": {},
   "outputs": [
    {
     "output_type": "execute_result",
     "data": {
      "text/plain": [
       "   class4  CO2168.mean  CO2168.std  CO2336.mean  CO2336.std  CO242.mean  \\\n",
       "0     NaN   377.448880    2.920241   377.632640    2.666835  377.908080   \n",
       "1     NaN   369.589091    0.210402   369.632955    0.201409  369.904200   \n",
       "2     NaN   380.338929    0.928028   380.315833    0.917636  380.550119   \n",
       "3     NaN   381.047644    1.290080   381.231149    1.245494  381.358678   \n",
       "4     NaN   371.620857    8.552564   371.245461    7.605137  373.101151   \n",
       "\n",
       "   CO242.std  CO2504.mean  CO2504.std   Glob.mean    Glob.std  H2O168.mean  \\\n",
       "0   3.440430   377.708240    2.543418  210.851946  179.668211    13.516160   \n",
       "1   0.252167   369.601600    0.184727   25.017625   15.296680     4.339091   \n",
       "2   0.936683   380.301446    0.916970    8.283964    5.107894     6.543333   \n",
       "3   1.817869   381.290057    1.228278  380.881093  280.914521     4.668851   \n",
       "4  10.027695   370.722624    6.804409  130.514702   79.959508     8.012000   \n",
       "\n",
       "   H2O168.std  H2O336.mean  H2O336.std  H2O42.mean  H2O42.std  H2O504.mean  \\\n",
       "0    0.503071    13.448640    0.496249   13.674790   0.530696    13.394640   \n",
       "1    0.035360     4.307045    0.037203    4.376000   0.045535     4.299600   \n",
       "2    0.191992     6.497143    0.197768    6.629167   0.184255     6.479639   \n",
       "3    0.491710     4.614138    0.502501    4.777586   0.471760     4.584253   \n",
       "4    0.288332     7.910426    0.297674    8.253669   0.292860     7.840709   \n",
       "\n",
       "   H2O504.std  H2O672.mean  H2O672.std  H2O84.mean  H2O84.std    NET.mean  \\\n",
       "0    0.498479    13.363040    0.497949   13.594444   0.521267  150.196036   \n",
       "1    0.034639     4.290400    0.033317    4.334400   0.040816    2.613875   \n",
       "2    0.198681     6.528193    0.204993    6.592143   0.181520   11.419841   \n",
       "3    0.504107     4.575402    0.506836    4.707803   0.477075  258.773200   \n",
       "4    0.312222     7.800922    0.334021    8.121571   0.305228   76.969244   \n",
       "\n",
       "      NET.std  NO168.mean  NO168.std  NO336.mean  NO336.std  NO42.mean  \\\n",
       "0  150.388580    0.027333   0.059314    0.025333   0.060505   0.013309   \n",
       "1   15.499577    0.003396   0.036052    0.016481   0.037121   0.012642   \n",
       "2    4.875628    0.009524   0.026155    0.007500   0.027060   0.013810   \n",
       "3  255.404065    0.023046   0.055061    0.029080   0.057393   0.018161   \n",
       "4   76.217402    0.245857   0.226719    0.245035   0.231694   0.176403   \n",
       "\n",
       "   NO42.std  NO504.mean  NO504.std  NO672.mean  NO672.std  NO84.mean  \\\n",
       "0  0.055271    0.026444   0.060477    0.031630   0.059778   0.012059   \n",
       "1  0.075706    0.008519   0.036879    0.018679   0.046162   0.006226   \n",
       "2  0.027061    0.011084   0.027542    0.006988   0.023098   0.011429   \n",
       "3  0.044241    0.028678   0.057390    0.030805   0.104026   0.015145   \n",
       "4  0.180611    0.233617   0.240188    0.229007   0.235100   0.229714   \n",
       "\n",
       "   NO84.std  NOx168.mean  NOx168.std  NOx336.mean  NOx336.std  NOx42.mean  \\\n",
       "0  0.059952     0.717778    0.244802     0.722667    0.243535    0.703088   \n",
       "1  0.049077     0.795849    0.095463     0.797222    0.082472    0.842642   \n",
       "2  0.026304     0.945000    0.183510     0.954405    0.181336    0.927976   \n",
       "3  0.046887     1.009483    0.500175     0.987011    0.424213    0.982184   \n",
       "4  0.225299     2.792357    1.005988     2.678511    1.018281    2.731511   \n",
       "\n",
       "   NOx42.std  NOx504.mean  NOx504.std  NOx672.mean  NOx672.std  NOx84.mean  \\\n",
       "0   0.269602     0.717111    0.261054     0.716741    0.243721    0.692132   \n",
       "1   0.453924     0.796667    0.082279     0.804528    0.081372    0.854906   \n",
       "2   0.169512     0.955181    0.175655     0.962169    0.180589    0.935476   \n",
       "3   0.398269     0.959425    0.369384     0.939368    0.344899    1.002139   \n",
       "4   1.011916     2.631418    1.091196     2.616383    1.092516    2.797571   \n",
       "\n",
       "   NOx84.std  O3168.mean  O3168.std  O342.mean  O342.std  O3504.mean  \\\n",
       "0   0.241236   48.873185   5.682168  47.631912  6.032602   49.573037   \n",
       "1   0.382052   34.074528   0.240820  33.866792  0.399186   34.362593   \n",
       "2   0.183417   22.213571   2.388679  21.710119  2.340238   22.492410   \n",
       "3   0.500223   44.571667   3.371159  43.726552  3.308224   44.983736   \n",
       "4   1.030073   23.857643   5.219066  21.720576  5.712422   25.733262   \n",
       "\n",
       "   O3504.std  O3672.mean  O3672.std  O384.mean  O384.std   Pamb0.mean  \\\n",
       "0   5.501992   49.893185   5.448881  48.160074  5.871296   994.642956   \n",
       "1   0.266205   34.490566   0.224957  34.050755  0.300217   982.955438   \n",
       "2   2.370442   22.735422   2.415880  21.941548  2.393011   980.814880   \n",
       "3   3.464504   45.073448   3.497581  44.181734  3.264690   996.903135   \n",
       "4   4.163422   26.148936   3.822602  23.067929  5.529563  1005.603096   \n",
       "\n",
       "   Pamb0.std    PAR.mean     PAR.std  PTG.mean   PTG.std  RGlob.mean  \\\n",
       "0   0.596543  462.288867  395.186100 -0.002204  0.004148   27.684027   \n",
       "1   0.709056   46.884312   26.235043  0.000000  0.000000    4.799594   \n",
       "2   0.279318   18.128247   11.574338  0.000000  0.000000    0.065139   \n",
       "3   1.208206  737.638006  552.083805 -0.004765  0.011049   44.519942   \n",
       "4   1.080227  245.163722  148.015357  0.004779  0.014287   16.476847   \n",
       "\n",
       "   RGlob.std  RHIRGA168.mean  RHIRGA168.std  RHIRGA336.mean  RHIRGA336.std  \\\n",
       "0  24.408845       61.929200       8.972139       62.429200       9.055263   \n",
       "1   3.225846       67.663636       1.291898       68.085682       1.441290   \n",
       "2   0.646427       92.853214       0.804013       93.415238       0.760399   \n",
       "3  29.039158       37.320172      14.072622       37.765230      14.381162   \n",
       "4   9.827836       72.190000       7.093067       71.302553       6.441438   \n",
       "\n",
       "   RHIRGA42.mean  RHIRGA42.std  RHIRGA504.mean  RHIRGA504.std  RHIRGA672.mean  \\\n",
       "0      62.922101      9.302637       62.818960       9.081988       63.571440   \n",
       "1      68.073200      1.258270       68.340600       1.344173       69.213400   \n",
       "2      93.546786      0.760492       93.668072       0.758113       95.544337   \n",
       "3      38.171149     14.546789       37.941034      14.479086       38.472069   \n",
       "4      73.911151      8.208471       70.836738       5.686469       71.447518   \n",
       "\n",
       "   RHIRGA672.std  RHIRGA84.mean  RHIRGA84.std  RPAR.mean   RPAR.std  \\\n",
       "0       9.160430      62.301746      9.121943  16.461909  14.679380   \n",
       "1       1.354032      67.448000      1.359301   3.155625   2.131279   \n",
       "2       1.356642      93.334524      0.738239   0.028685   0.212517   \n",
       "3      14.667392      37.383699     14.093502  25.116117  18.469726   \n",
       "4       5.128026      72.549786      7.327851   8.901041   5.641202   \n",
       "\n",
       "   SO2168.mean  SO2168.std    SWS.mean     SWS.std  T168.mean  T168.std  \\\n",
       "0     0.462741    0.196812  911.833333   24.361855  19.019520  2.306049   \n",
       "1     0.026038    0.061530  922.333333    0.577350   0.462844  0.194671   \n",
       "2     0.112143    0.100697  770.735294  142.420698   1.705657  0.363461   \n",
       "3     0.082414    0.091126  921.094919    0.777319  11.050729  3.357004   \n",
       "4     0.341500    0.294371  919.106383    7.904963   8.672297  1.846648   \n",
       "\n",
       "    T42.mean   T42.std  T504.mean  T504.std  T672.mean  T672.std   T84.mean  \\\n",
       "0  19.033461  2.316664  18.649187  2.278480  18.421232  2.267065  19.059027   \n",
       "1   0.480250  0.195631   0.178000  0.185177  -0.036312  0.180361   0.476219   \n",
       "2   1.790637  0.364509   1.453287  0.372461   1.284980  0.379219   1.737849   \n",
       "3  11.124573  3.594004  10.553749  3.306069  10.298284  3.281097  11.148552   \n",
       "4   8.744422  1.998833   8.609743  1.630543   8.398302  1.479949   8.798417   \n",
       "\n",
       "    T84.std  UV_A.mean   UV_A.std  UV_B.mean  UV_B.std   CS.mean    CS.std  \n",
       "0  2.320316  12.572064   9.623161   0.645959  0.558320  0.006159  0.000797  \n",
       "1  0.192571   1.479447   0.640776   0.028665  0.013506  0.000361  0.000031  \n",
       "2  0.365878   0.720849   0.427279   0.015179  0.010471  0.002334  0.000347  \n",
       "3  3.478676  19.568691  14.480491   0.783038  0.703191  0.001868  0.000594  \n",
       "4  1.900331   7.591540   4.579817   0.319340  0.247098  0.002649  0.000701  "
      ],
      "text/html": "<div>\n<style scoped>\n    .dataframe tbody tr th:only-of-type {\n        vertical-align: middle;\n    }\n\n    .dataframe tbody tr th {\n        vertical-align: top;\n    }\n\n    .dataframe thead th {\n        text-align: right;\n    }\n</style>\n<table border=\"1\" class=\"dataframe\">\n  <thead>\n    <tr style=\"text-align: right;\">\n      <th></th>\n      <th>class4</th>\n      <th>CO2168.mean</th>\n      <th>CO2168.std</th>\n      <th>CO2336.mean</th>\n      <th>CO2336.std</th>\n      <th>CO242.mean</th>\n      <th>CO242.std</th>\n      <th>CO2504.mean</th>\n      <th>CO2504.std</th>\n      <th>Glob.mean</th>\n      <th>Glob.std</th>\n      <th>H2O168.mean</th>\n      <th>H2O168.std</th>\n      <th>H2O336.mean</th>\n      <th>H2O336.std</th>\n      <th>H2O42.mean</th>\n      <th>H2O42.std</th>\n      <th>H2O504.mean</th>\n      <th>H2O504.std</th>\n      <th>H2O672.mean</th>\n      <th>H2O672.std</th>\n      <th>H2O84.mean</th>\n      <th>H2O84.std</th>\n      <th>NET.mean</th>\n      <th>NET.std</th>\n      <th>NO168.mean</th>\n      <th>NO168.std</th>\n      <th>NO336.mean</th>\n      <th>NO336.std</th>\n      <th>NO42.mean</th>\n      <th>NO42.std</th>\n      <th>NO504.mean</th>\n      <th>NO504.std</th>\n      <th>NO672.mean</th>\n      <th>NO672.std</th>\n      <th>NO84.mean</th>\n      <th>NO84.std</th>\n      <th>NOx168.mean</th>\n      <th>NOx168.std</th>\n      <th>NOx336.mean</th>\n      <th>NOx336.std</th>\n      <th>NOx42.mean</th>\n      <th>NOx42.std</th>\n      <th>NOx504.mean</th>\n      <th>NOx504.std</th>\n      <th>NOx672.mean</th>\n      <th>NOx672.std</th>\n      <th>NOx84.mean</th>\n      <th>NOx84.std</th>\n      <th>O3168.mean</th>\n      <th>O3168.std</th>\n      <th>O342.mean</th>\n      <th>O342.std</th>\n      <th>O3504.mean</th>\n      <th>O3504.std</th>\n      <th>O3672.mean</th>\n      <th>O3672.std</th>\n      <th>O384.mean</th>\n      <th>O384.std</th>\n      <th>Pamb0.mean</th>\n      <th>Pamb0.std</th>\n      <th>PAR.mean</th>\n      <th>PAR.std</th>\n      <th>PTG.mean</th>\n      <th>PTG.std</th>\n      <th>RGlob.mean</th>\n      <th>RGlob.std</th>\n      <th>RHIRGA168.mean</th>\n      <th>RHIRGA168.std</th>\n      <th>RHIRGA336.mean</th>\n      <th>RHIRGA336.std</th>\n      <th>RHIRGA42.mean</th>\n      <th>RHIRGA42.std</th>\n      <th>RHIRGA504.mean</th>\n      <th>RHIRGA504.std</th>\n      <th>RHIRGA672.mean</th>\n      <th>RHIRGA672.std</th>\n      <th>RHIRGA84.mean</th>\n      <th>RHIRGA84.std</th>\n      <th>RPAR.mean</th>\n      <th>RPAR.std</th>\n      <th>SO2168.mean</th>\n      <th>SO2168.std</th>\n      <th>SWS.mean</th>\n      <th>SWS.std</th>\n      <th>T168.mean</th>\n      <th>T168.std</th>\n      <th>T42.mean</th>\n      <th>T42.std</th>\n      <th>T504.mean</th>\n      <th>T504.std</th>\n      <th>T672.mean</th>\n      <th>T672.std</th>\n      <th>T84.mean</th>\n      <th>T84.std</th>\n      <th>UV_A.mean</th>\n      <th>UV_A.std</th>\n      <th>UV_B.mean</th>\n      <th>UV_B.std</th>\n      <th>CS.mean</th>\n      <th>CS.std</th>\n    </tr>\n  </thead>\n  <tbody>\n    <tr>\n      <th>0</th>\n      <td>NaN</td>\n      <td>377.448880</td>\n      <td>2.920241</td>\n      <td>377.632640</td>\n      <td>2.666835</td>\n      <td>377.908080</td>\n      <td>3.440430</td>\n      <td>377.708240</td>\n      <td>2.543418</td>\n      <td>210.851946</td>\n      <td>179.668211</td>\n      <td>13.516160</td>\n      <td>0.503071</td>\n      <td>13.448640</td>\n      <td>0.496249</td>\n      <td>13.674790</td>\n      <td>0.530696</td>\n      <td>13.394640</td>\n      <td>0.498479</td>\n      <td>13.363040</td>\n      <td>0.497949</td>\n      <td>13.594444</td>\n      <td>0.521267</td>\n      <td>150.196036</td>\n      <td>150.388580</td>\n      <td>0.027333</td>\n      <td>0.059314</td>\n      <td>0.025333</td>\n      <td>0.060505</td>\n      <td>0.013309</td>\n      <td>0.055271</td>\n      <td>0.026444</td>\n      <td>0.060477</td>\n      <td>0.031630</td>\n      <td>0.059778</td>\n      <td>0.012059</td>\n      <td>0.059952</td>\n      <td>0.717778</td>\n      <td>0.244802</td>\n      <td>0.722667</td>\n      <td>0.243535</td>\n      <td>0.703088</td>\n      <td>0.269602</td>\n      <td>0.717111</td>\n      <td>0.261054</td>\n      <td>0.716741</td>\n      <td>0.243721</td>\n      <td>0.692132</td>\n      <td>0.241236</td>\n      <td>48.873185</td>\n      <td>5.682168</td>\n      <td>47.631912</td>\n      <td>6.032602</td>\n      <td>49.573037</td>\n      <td>5.501992</td>\n      <td>49.893185</td>\n      <td>5.448881</td>\n      <td>48.160074</td>\n      <td>5.871296</td>\n      <td>994.642956</td>\n      <td>0.596543</td>\n      <td>462.288867</td>\n      <td>395.186100</td>\n      <td>-0.002204</td>\n      <td>0.004148</td>\n      <td>27.684027</td>\n      <td>24.408845</td>\n      <td>61.929200</td>\n      <td>8.972139</td>\n      <td>62.429200</td>\n      <td>9.055263</td>\n      <td>62.922101</td>\n      <td>9.302637</td>\n      <td>62.818960</td>\n      <td>9.081988</td>\n      <td>63.571440</td>\n      <td>9.160430</td>\n      <td>62.301746</td>\n      <td>9.121943</td>\n      <td>16.461909</td>\n      <td>14.679380</td>\n      <td>0.462741</td>\n      <td>0.196812</td>\n      <td>911.833333</td>\n      <td>24.361855</td>\n      <td>19.019520</td>\n      <td>2.306049</td>\n      <td>19.033461</td>\n      <td>2.316664</td>\n      <td>18.649187</td>\n      <td>2.278480</td>\n      <td>18.421232</td>\n      <td>2.267065</td>\n      <td>19.059027</td>\n      <td>2.320316</td>\n      <td>12.572064</td>\n      <td>9.623161</td>\n      <td>0.645959</td>\n      <td>0.558320</td>\n      <td>0.006159</td>\n      <td>0.000797</td>\n    </tr>\n    <tr>\n      <th>1</th>\n      <td>NaN</td>\n      <td>369.589091</td>\n      <td>0.210402</td>\n      <td>369.632955</td>\n      <td>0.201409</td>\n      <td>369.904200</td>\n      <td>0.252167</td>\n      <td>369.601600</td>\n      <td>0.184727</td>\n      <td>25.017625</td>\n      <td>15.296680</td>\n      <td>4.339091</td>\n      <td>0.035360</td>\n      <td>4.307045</td>\n      <td>0.037203</td>\n      <td>4.376000</td>\n      <td>0.045535</td>\n      <td>4.299600</td>\n      <td>0.034639</td>\n      <td>4.290400</td>\n      <td>0.033317</td>\n      <td>4.334400</td>\n      <td>0.040816</td>\n      <td>2.613875</td>\n      <td>15.499577</td>\n      <td>0.003396</td>\n      <td>0.036052</td>\n      <td>0.016481</td>\n      <td>0.037121</td>\n      <td>0.012642</td>\n      <td>0.075706</td>\n      <td>0.008519</td>\n      <td>0.036879</td>\n      <td>0.018679</td>\n      <td>0.046162</td>\n      <td>0.006226</td>\n      <td>0.049077</td>\n      <td>0.795849</td>\n      <td>0.095463</td>\n      <td>0.797222</td>\n      <td>0.082472</td>\n      <td>0.842642</td>\n      <td>0.453924</td>\n      <td>0.796667</td>\n      <td>0.082279</td>\n      <td>0.804528</td>\n      <td>0.081372</td>\n      <td>0.854906</td>\n      <td>0.382052</td>\n      <td>34.074528</td>\n      <td>0.240820</td>\n      <td>33.866792</td>\n      <td>0.399186</td>\n      <td>34.362593</td>\n      <td>0.266205</td>\n      <td>34.490566</td>\n      <td>0.224957</td>\n      <td>34.050755</td>\n      <td>0.300217</td>\n      <td>982.955438</td>\n      <td>0.709056</td>\n      <td>46.884312</td>\n      <td>26.235043</td>\n      <td>0.000000</td>\n      <td>0.000000</td>\n      <td>4.799594</td>\n      <td>3.225846</td>\n      <td>67.663636</td>\n      <td>1.291898</td>\n      <td>68.085682</td>\n      <td>1.441290</td>\n      <td>68.073200</td>\n      <td>1.258270</td>\n      <td>68.340600</td>\n      <td>1.344173</td>\n      <td>69.213400</td>\n      <td>1.354032</td>\n      <td>67.448000</td>\n      <td>1.359301</td>\n      <td>3.155625</td>\n      <td>2.131279</td>\n      <td>0.026038</td>\n      <td>0.061530</td>\n      <td>922.333333</td>\n      <td>0.577350</td>\n      <td>0.462844</td>\n      <td>0.194671</td>\n      <td>0.480250</td>\n      <td>0.195631</td>\n      <td>0.178000</td>\n      <td>0.185177</td>\n      <td>-0.036312</td>\n      <td>0.180361</td>\n      <td>0.476219</td>\n      <td>0.192571</td>\n      <td>1.479447</td>\n      <td>0.640776</td>\n      <td>0.028665</td>\n      <td>0.013506</td>\n      <td>0.000361</td>\n      <td>0.000031</td>\n    </tr>\n    <tr>\n      <th>2</th>\n      <td>NaN</td>\n      <td>380.338929</td>\n      <td>0.928028</td>\n      <td>380.315833</td>\n      <td>0.917636</td>\n      <td>380.550119</td>\n      <td>0.936683</td>\n      <td>380.301446</td>\n      <td>0.916970</td>\n      <td>8.283964</td>\n      <td>5.107894</td>\n      <td>6.543333</td>\n      <td>0.191992</td>\n      <td>6.497143</td>\n      <td>0.197768</td>\n      <td>6.629167</td>\n      <td>0.184255</td>\n      <td>6.479639</td>\n      <td>0.198681</td>\n      <td>6.528193</td>\n      <td>0.204993</td>\n      <td>6.592143</td>\n      <td>0.181520</td>\n      <td>11.419841</td>\n      <td>4.875628</td>\n      <td>0.009524</td>\n      <td>0.026155</td>\n      <td>0.007500</td>\n      <td>0.027060</td>\n      <td>0.013810</td>\n      <td>0.027061</td>\n      <td>0.011084</td>\n      <td>0.027542</td>\n      <td>0.006988</td>\n      <td>0.023098</td>\n      <td>0.011429</td>\n      <td>0.026304</td>\n      <td>0.945000</td>\n      <td>0.183510</td>\n      <td>0.954405</td>\n      <td>0.181336</td>\n      <td>0.927976</td>\n      <td>0.169512</td>\n      <td>0.955181</td>\n      <td>0.175655</td>\n      <td>0.962169</td>\n      <td>0.180589</td>\n      <td>0.935476</td>\n      <td>0.183417</td>\n      <td>22.213571</td>\n      <td>2.388679</td>\n      <td>21.710119</td>\n      <td>2.340238</td>\n      <td>22.492410</td>\n      <td>2.370442</td>\n      <td>22.735422</td>\n      <td>2.415880</td>\n      <td>21.941548</td>\n      <td>2.393011</td>\n      <td>980.814880</td>\n      <td>0.279318</td>\n      <td>18.128247</td>\n      <td>11.574338</td>\n      <td>0.000000</td>\n      <td>0.000000</td>\n      <td>0.065139</td>\n      <td>0.646427</td>\n      <td>92.853214</td>\n      <td>0.804013</td>\n      <td>93.415238</td>\n      <td>0.760399</td>\n      <td>93.546786</td>\n      <td>0.760492</td>\n      <td>93.668072</td>\n      <td>0.758113</td>\n      <td>95.544337</td>\n      <td>1.356642</td>\n      <td>93.334524</td>\n      <td>0.738239</td>\n      <td>0.028685</td>\n      <td>0.212517</td>\n      <td>0.112143</td>\n      <td>0.100697</td>\n      <td>770.735294</td>\n      <td>142.420698</td>\n      <td>1.705657</td>\n      <td>0.363461</td>\n      <td>1.790637</td>\n      <td>0.364509</td>\n      <td>1.453287</td>\n      <td>0.372461</td>\n      <td>1.284980</td>\n      <td>0.379219</td>\n      <td>1.737849</td>\n      <td>0.365878</td>\n      <td>0.720849</td>\n      <td>0.427279</td>\n      <td>0.015179</td>\n      <td>0.010471</td>\n      <td>0.002334</td>\n      <td>0.000347</td>\n    </tr>\n    <tr>\n      <th>3</th>\n      <td>NaN</td>\n      <td>381.047644</td>\n      <td>1.290080</td>\n      <td>381.231149</td>\n      <td>1.245494</td>\n      <td>381.358678</td>\n      <td>1.817869</td>\n      <td>381.290057</td>\n      <td>1.228278</td>\n      <td>380.881093</td>\n      <td>280.914521</td>\n      <td>4.668851</td>\n      <td>0.491710</td>\n      <td>4.614138</td>\n      <td>0.502501</td>\n      <td>4.777586</td>\n      <td>0.471760</td>\n      <td>4.584253</td>\n      <td>0.504107</td>\n      <td>4.575402</td>\n      <td>0.506836</td>\n      <td>4.707803</td>\n      <td>0.477075</td>\n      <td>258.773200</td>\n      <td>255.404065</td>\n      <td>0.023046</td>\n      <td>0.055061</td>\n      <td>0.029080</td>\n      <td>0.057393</td>\n      <td>0.018161</td>\n      <td>0.044241</td>\n      <td>0.028678</td>\n      <td>0.057390</td>\n      <td>0.030805</td>\n      <td>0.104026</td>\n      <td>0.015145</td>\n      <td>0.046887</td>\n      <td>1.009483</td>\n      <td>0.500175</td>\n      <td>0.987011</td>\n      <td>0.424213</td>\n      <td>0.982184</td>\n      <td>0.398269</td>\n      <td>0.959425</td>\n      <td>0.369384</td>\n      <td>0.939368</td>\n      <td>0.344899</td>\n      <td>1.002139</td>\n      <td>0.500223</td>\n      <td>44.571667</td>\n      <td>3.371159</td>\n      <td>43.726552</td>\n      <td>3.308224</td>\n      <td>44.983736</td>\n      <td>3.464504</td>\n      <td>45.073448</td>\n      <td>3.497581</td>\n      <td>44.181734</td>\n      <td>3.264690</td>\n      <td>996.903135</td>\n      <td>1.208206</td>\n      <td>737.638006</td>\n      <td>552.083805</td>\n      <td>-0.004765</td>\n      <td>0.011049</td>\n      <td>44.519942</td>\n      <td>29.039158</td>\n      <td>37.320172</td>\n      <td>14.072622</td>\n      <td>37.765230</td>\n      <td>14.381162</td>\n      <td>38.171149</td>\n      <td>14.546789</td>\n      <td>37.941034</td>\n      <td>14.479086</td>\n      <td>38.472069</td>\n      <td>14.667392</td>\n      <td>37.383699</td>\n      <td>14.093502</td>\n      <td>25.116117</td>\n      <td>18.469726</td>\n      <td>0.082414</td>\n      <td>0.091126</td>\n      <td>921.094919</td>\n      <td>0.777319</td>\n      <td>11.050729</td>\n      <td>3.357004</td>\n      <td>11.124573</td>\n      <td>3.594004</td>\n      <td>10.553749</td>\n      <td>3.306069</td>\n      <td>10.298284</td>\n      <td>3.281097</td>\n      <td>11.148552</td>\n      <td>3.478676</td>\n      <td>19.568691</td>\n      <td>14.480491</td>\n      <td>0.783038</td>\n      <td>0.703191</td>\n      <td>0.001868</td>\n      <td>0.000594</td>\n    </tr>\n    <tr>\n      <th>4</th>\n      <td>NaN</td>\n      <td>371.620857</td>\n      <td>8.552564</td>\n      <td>371.245461</td>\n      <td>7.605137</td>\n      <td>373.101151</td>\n      <td>10.027695</td>\n      <td>370.722624</td>\n      <td>6.804409</td>\n      <td>130.514702</td>\n      <td>79.959508</td>\n      <td>8.012000</td>\n      <td>0.288332</td>\n      <td>7.910426</td>\n      <td>0.297674</td>\n      <td>8.253669</td>\n      <td>0.292860</td>\n      <td>7.840709</td>\n      <td>0.312222</td>\n      <td>7.800922</td>\n      <td>0.334021</td>\n      <td>8.121571</td>\n      <td>0.305228</td>\n      <td>76.969244</td>\n      <td>76.217402</td>\n      <td>0.245857</td>\n      <td>0.226719</td>\n      <td>0.245035</td>\n      <td>0.231694</td>\n      <td>0.176403</td>\n      <td>0.180611</td>\n      <td>0.233617</td>\n      <td>0.240188</td>\n      <td>0.229007</td>\n      <td>0.235100</td>\n      <td>0.229714</td>\n      <td>0.225299</td>\n      <td>2.792357</td>\n      <td>1.005988</td>\n      <td>2.678511</td>\n      <td>1.018281</td>\n      <td>2.731511</td>\n      <td>1.011916</td>\n      <td>2.631418</td>\n      <td>1.091196</td>\n      <td>2.616383</td>\n      <td>1.092516</td>\n      <td>2.797571</td>\n      <td>1.030073</td>\n      <td>23.857643</td>\n      <td>5.219066</td>\n      <td>21.720576</td>\n      <td>5.712422</td>\n      <td>25.733262</td>\n      <td>4.163422</td>\n      <td>26.148936</td>\n      <td>3.822602</td>\n      <td>23.067929</td>\n      <td>5.529563</td>\n      <td>1005.603096</td>\n      <td>1.080227</td>\n      <td>245.163722</td>\n      <td>148.015357</td>\n      <td>0.004779</td>\n      <td>0.014287</td>\n      <td>16.476847</td>\n      <td>9.827836</td>\n      <td>72.190000</td>\n      <td>7.093067</td>\n      <td>71.302553</td>\n      <td>6.441438</td>\n      <td>73.911151</td>\n      <td>8.208471</td>\n      <td>70.836738</td>\n      <td>5.686469</td>\n      <td>71.447518</td>\n      <td>5.128026</td>\n      <td>72.549786</td>\n      <td>7.327851</td>\n      <td>8.901041</td>\n      <td>5.641202</td>\n      <td>0.341500</td>\n      <td>0.294371</td>\n      <td>919.106383</td>\n      <td>7.904963</td>\n      <td>8.672297</td>\n      <td>1.846648</td>\n      <td>8.744422</td>\n      <td>1.998833</td>\n      <td>8.609743</td>\n      <td>1.630543</td>\n      <td>8.398302</td>\n      <td>1.479949</td>\n      <td>8.798417</td>\n      <td>1.900331</td>\n      <td>7.591540</td>\n      <td>4.579817</td>\n      <td>0.319340</td>\n      <td>0.247098</td>\n      <td>0.002649</td>\n      <td>0.000701</td>\n    </tr>\n  </tbody>\n</table>\n</div>"
     },
     "metadata": {},
     "execution_count": 52
    }
   ],
   "source": [
    "# Import hidden data\n",
    "df_hidden = pd.read_csv(\"../data/npf_test_hidden.csv\")\n",
    "\n",
    "df_hidden = df_hidden.drop(columns=[\"partlybad\", \"id\", \"date\"])\n",
    "\n",
    "df_hidden.head()"
   ]
  },
  {
   "cell_type": "code",
   "execution_count": 53,
   "metadata": {},
   "outputs": [
    {
     "output_type": "execute_result",
     "data": {
      "text/plain": [
       "array(['nonevent', 'Ia', 'nonevent', 'Ib', 'nonevent', 'Ib', 'II', 'II',\n",
       "       'nonevent', 'Ib', 'Ib', 'II', 'II', 'II', 'II', 'II', 'II',\n",
       "       'nonevent', 'nonevent', 'II', 'II', 'Ib', 'II', 'nonevent', 'Ib',\n",
       "       'Ib', 'nonevent', 'nonevent', 'nonevent', 'nonevent', 'Ib', 'II',\n",
       "       'nonevent', 'II', 'nonevent', 'nonevent', 'nonevent', 'Ib',\n",
       "       'nonevent', 'nonevent', 'II', 'nonevent', 'nonevent', 'nonevent',\n",
       "       'nonevent', 'II', 'nonevent', 'Ib', 'Ib', 'II', 'nonevent',\n",
       "       'nonevent', 'nonevent', 'nonevent', 'nonevent', 'nonevent', 'II',\n",
       "       'II', 'nonevent', 'II', 'Ib', 'nonevent', 'II', 'nonevent',\n",
       "       'nonevent', 'Ib', 'Ib', 'Ib', 'II', 'nonevent', 'Ia', 'nonevent',\n",
       "       'nonevent', 'nonevent', 'nonevent', 'nonevent', 'nonevent',\n",
       "       'nonevent', 'nonevent', 'II', 'Ib', 'II', 'nonevent', 'II', 'II',\n",
       "       'II', 'II', 'II', 'II', 'nonevent', 'nonevent', 'nonevent', 'II',\n",
       "       'II', 'nonevent', 'II', 'nonevent', 'II', 'nonevent', 'nonevent',\n",
       "       'nonevent', 'nonevent', 'nonevent', 'II', 'II', 'Ib', 'Ib', 'Ia',\n",
       "       'nonevent', 'II', 'Ib', 'II', 'II', 'Ib', 'Ib', 'nonevent',\n",
       "       'nonevent', 'II', 'II', 'nonevent', 'II', 'Ia', 'II', 'nonevent',\n",
       "       'nonevent', 'nonevent', 'nonevent', 'II', 'nonevent', 'II',\n",
       "       'nonevent', 'II', 'nonevent', 'nonevent', 'nonevent', 'nonevent',\n",
       "       'nonevent', 'II', 'II', 'II', 'Ia', 'nonevent', 'nonevent', 'Ib',\n",
       "       'Ib', 'nonevent', 'nonevent', 'Ia', 'nonevent', 'Ib', 'nonevent',\n",
       "       'nonevent', 'nonevent', 'Ia', 'nonevent', 'nonevent', 'Ib', 'II',\n",
       "       'nonevent', 'nonevent', 'nonevent', 'nonevent', 'Ib', 'Ib',\n",
       "       'nonevent', 'nonevent', 'II', 'II', 'II', 'II', 'Ia', 'nonevent',\n",
       "       'nonevent', 'II', 'II', 'II', 'nonevent', 'Ib', 'II', 'nonevent',\n",
       "       'nonevent', 'II', 'nonevent', 'nonevent', 'nonevent', 'nonevent',\n",
       "       'II', 'nonevent', 'II', 'nonevent', 'nonevent', 'nonevent',\n",
       "       'nonevent', 'nonevent', 'Ib', 'Ib', 'II', 'nonevent', 'II',\n",
       "       'nonevent', 'Ib', 'Ib', 'Ib', 'nonevent', 'Ib', 'Ia', 'nonevent',\n",
       "       'nonevent', 'nonevent', 'nonevent', 'Ib', 'nonevent', 'nonevent',\n",
       "       'nonevent', 'Ia', 'nonevent', 'Ib', 'Ia', 'Ib', 'nonevent',\n",
       "       'nonevent', 'Ib', 'nonevent', 'nonevent', 'nonevent', 'nonevent',\n",
       "       'nonevent', 'nonevent', 'II', 'Ib', 'nonevent', 'II', 'nonevent',\n",
       "       'nonevent', 'II', 'nonevent', 'Ib', 'II', 'Ia', 'nonevent',\n",
       "       'nonevent', 'II', 'II', 'nonevent', 'nonevent', 'nonevent', 'II',\n",
       "       'II', 'II', 'nonevent', 'II', 'II', 'II', 'Ib', 'nonevent', 'Ib',\n",
       "       'nonevent', 'nonevent', 'nonevent', 'Ib', 'Ia', 'nonevent',\n",
       "       'nonevent', 'Ib', 'II', 'nonevent', 'Ib', 'Ia', 'II', 'nonevent',\n",
       "       'nonevent', 'nonevent', 'nonevent', 'Ib', 'nonevent', 'Ib',\n",
       "       'nonevent', 'Ib', 'nonevent', 'II', 'Ib', 'II', 'II', 'nonevent',\n",
       "       'Ib', 'II', 'nonevent', 'II', 'II', 'nonevent', 'nonevent',\n",
       "       'nonevent', 'nonevent', 'Ib', 'nonevent', 'nonevent', 'II',\n",
       "       'nonevent', 'nonevent', 'Ib', 'Ib', 'nonevent', 'II', 'nonevent',\n",
       "       'nonevent', 'nonevent', 'II', 'nonevent', 'II', 'nonevent',\n",
       "       'nonevent', 'II', 'nonevent', 'nonevent', 'II', 'nonevent',\n",
       "       'nonevent', 'II', 'II', 'nonevent', 'nonevent', 'nonevent', 'Ib',\n",
       "       'nonevent', 'nonevent', 'nonevent', 'nonevent', 'nonevent', 'II',\n",
       "       'II', 'II', 'nonevent', 'nonevent', 'nonevent', 'nonevent',\n",
       "       'nonevent', 'Ib', 'nonevent', 'nonevent', 'Ib', 'nonevent', 'II',\n",
       "       'nonevent', 'nonevent', 'nonevent', 'nonevent', 'Ib', 'nonevent',\n",
       "       'nonevent', 'nonevent', 'II', 'nonevent', 'nonevent', 'nonevent',\n",
       "       'II', 'Ib', 'II', 'nonevent', 'nonevent', 'nonevent', 'nonevent',\n",
       "       'II', 'nonevent', 'II', 'II', 'Ib', 'Ib', 'II', 'II', 'nonevent',\n",
       "       'nonevent', 'II', 'II', 'nonevent', 'nonevent', 'nonevent',\n",
       "       'nonevent', 'II', 'nonevent', 'Ib', 'Ib', 'Ib', 'nonevent', 'II',\n",
       "       'Ib', 'nonevent', 'nonevent', 'II', 'nonevent', 'nonevent',\n",
       "       'nonevent', 'nonevent', 'nonevent', 'II', 'nonevent', 'Ib',\n",
       "       'nonevent', 'Ib', 'nonevent', 'II', 'nonevent', 'nonevent', 'Ia',\n",
       "       'nonevent', 'II', 'nonevent', 'II', 'nonevent', 'nonevent',\n",
       "       'nonevent', 'nonevent', 'nonevent', 'nonevent', 'nonevent',\n",
       "       'nonevent', 'Ib', 'nonevent', 'nonevent', 'Ib', 'nonevent', 'Ib',\n",
       "       'nonevent', 'II', 'nonevent', 'nonevent', 'nonevent', 'Ib',\n",
       "       'nonevent', 'nonevent', 'nonevent', 'nonevent', 'nonevent', 'Ia',\n",
       "       'Ib', 'nonevent', 'nonevent', 'Ib', 'nonevent', 'nonevent', 'Ia',\n",
       "       'II', 'nonevent', 'Ib', 'nonevent', 'II', 'Ia', 'II', 'nonevent',\n",
       "       'II', 'nonevent', 'nonevent', 'nonevent', 'II', 'II', 'II',\n",
       "       'nonevent', 'nonevent', 'nonevent', 'nonevent', 'II', 'nonevent',\n",
       "       'II', 'nonevent', 'II', 'II', 'II', 'nonevent', 'nonevent',\n",
       "       'nonevent', 'nonevent', 'II', 'Ib', 'Ib', 'nonevent', 'nonevent',\n",
       "       'nonevent', 'nonevent', 'nonevent', 'nonevent', 'nonevent', 'II',\n",
       "       'Ib', 'Ib', 'nonevent', 'II', 'Ia', 'nonevent', 'II', 'Ib',\n",
       "       'nonevent', 'nonevent', 'nonevent', 'nonevent', 'nonevent', 'II',\n",
       "       'nonevent', 'II', 'nonevent', 'II', 'nonevent', 'nonevent', 'Ib',\n",
       "       'nonevent', 'II', 'II', 'II', 'II', 'nonevent', 'nonevent', 'II',\n",
       "       'Ib', 'Ib', 'nonevent', 'nonevent', 'II', 'nonevent', 'II', 'II',\n",
       "       'nonevent', 'nonevent', 'nonevent', 'nonevent', 'II', 'nonevent',\n",
       "       'nonevent', 'nonevent', 'nonevent', 'II', 'Ia', 'nonevent', 'Ib',\n",
       "       'nonevent', 'Ib', 'nonevent', 'nonevent', 'nonevent', 'nonevent',\n",
       "       'Ib', 'nonevent', 'nonevent', 'nonevent', 'Ib', 'nonevent', 'II',\n",
       "       'nonevent', 'nonevent', 'Ib', 'Ib', 'nonevent', 'Ib', 'nonevent',\n",
       "       'nonevent', 'nonevent', 'nonevent', 'Ia', 'II', 'nonevent', 'II',\n",
       "       'II', 'nonevent', 'nonevent', 'nonevent', 'nonevent', 'nonevent',\n",
       "       'nonevent', 'nonevent', 'II', 'II', 'nonevent', 'nonevent', 'Ib',\n",
       "       'II', 'nonevent', 'nonevent', 'II', 'II', 'nonevent', 'nonevent',\n",
       "       'II', 'Ib', 'Ib', 'II', 'nonevent', 'nonevent', 'nonevent', 'Ia',\n",
       "       'nonevent', 'nonevent', 'nonevent', 'II', 'nonevent', 'nonevent',\n",
       "       'nonevent', 'nonevent', 'nonevent', 'Ib', 'nonevent', 'nonevent',\n",
       "       'Ia', 'nonevent', 'nonevent', 'II', 'nonevent', 'Ib', 'Ib',\n",
       "       'nonevent', 'II', 'nonevent', 'nonevent', 'II', 'Ib', 'II',\n",
       "       'nonevent', 'nonevent', 'nonevent', 'Ib', 'nonevent', 'Ib',\n",
       "       'nonevent', 'Ib', 'nonevent', 'nonevent', 'II', 'Ia', 'Ib',\n",
       "       'nonevent', 'nonevent', 'nonevent', 'nonevent', 'II', 'Ia',\n",
       "       'nonevent', 'nonevent', 'nonevent', 'nonevent', 'nonevent',\n",
       "       'nonevent', 'nonevent', 'II', 'II', 'Ib', 'nonevent', 'II',\n",
       "       'nonevent', 'Ia', 'nonevent', 'II', 'II', 'Ib', 'Ib', 'nonevent',\n",
       "       'Ib', 'Ib', 'nonevent', 'nonevent', 'nonevent', 'II', 'nonevent',\n",
       "       'Ib', 'Ib', 'Ia', 'nonevent', 'nonevent', 'nonevent', 'nonevent',\n",
       "       'Ib', 'nonevent', 'nonevent', 'II', 'nonevent', 'nonevent', 'II',\n",
       "       'nonevent', 'II', 'nonevent', 'Ib', 'nonevent', 'Ib', 'Ia', 'Ib',\n",
       "       'nonevent', 'Ib', 'nonevent', 'Ib', 'Ib', 'nonevent', 'Ib',\n",
       "       'nonevent', 'nonevent', 'Ib', 'nonevent', 'nonevent', 'nonevent',\n",
       "       'II', 'II', 'nonevent', 'II', 'nonevent', 'II', 'nonevent', 'Ib',\n",
       "       'nonevent', 'nonevent', 'nonevent', 'nonevent', 'nonevent', 'Ib',\n",
       "       'II', 'II', 'nonevent', 'II', 'nonevent', 'Ib', 'nonevent',\n",
       "       'nonevent', 'nonevent', 'II', 'II', 'nonevent', 'nonevent',\n",
       "       'nonevent', 'II', 'nonevent', 'nonevent', 'nonevent', 'Ia',\n",
       "       'nonevent', 'Ib', 'nonevent', 'II', 'nonevent', 'nonevent',\n",
       "       'nonevent', 'nonevent', 'nonevent', 'Ia', 'nonevent', 'nonevent',\n",
       "       'nonevent', 'II', 'II', 'nonevent', 'nonevent', 'nonevent',\n",
       "       'nonevent', 'nonevent', 'Ib', 'nonevent', 'nonevent', 'nonevent',\n",
       "       'II', 'nonevent', 'nonevent', 'nonevent', 'Ib', 'II', 'nonevent',\n",
       "       'nonevent', 'Ib', 'nonevent', 'nonevent', 'nonevent', 'nonevent',\n",
       "       'Ib', 'Ib', 'nonevent', 'nonevent', 'nonevent', 'nonevent',\n",
       "       'nonevent', 'nonevent', 'nonevent', 'nonevent', 'Ib', 'nonevent',\n",
       "       'II', 'Ia', 'II', 'II', 'II', 'Ib', 'nonevent', 'nonevent',\n",
       "       'nonevent', 'nonevent', 'nonevent', 'nonevent', 'II', 'nonevent',\n",
       "       'nonevent', 'nonevent', 'II', 'Ib', 'II', 'nonevent', 'II', 'Ib',\n",
       "       'nonevent', 'nonevent', 'nonevent', 'Ib', 'II', 'Ib', 'nonevent',\n",
       "       'Ib', 'nonevent', 'Ia', 'nonevent', 'Ib', 'nonevent', 'Ib',\n",
       "       'nonevent', 'Ib', 'nonevent', 'nonevent', 'nonevent', 'Ib',\n",
       "       'nonevent', 'nonevent', 'II', 'Ib', 'nonevent', 'Ib', 'Ib', 'II',\n",
       "       'Ia', 'II', 'nonevent', 'nonevent', 'II', 'nonevent', 'nonevent',\n",
       "       'Ib', 'II', 'Ib', 'nonevent', 'nonevent', 'Ib', 'nonevent',\n",
       "       'nonevent', 'nonevent', 'II', 'II', 'Ia', 'II', 'nonevent',\n",
       "       'nonevent', 'nonevent', 'II', 'II', 'nonevent', 'Ib', 'nonevent',\n",
       "       'nonevent', 'nonevent', 'II', 'nonevent', 'nonevent', 'nonevent',\n",
       "       'II', 'II', 'Ib', 'nonevent', 'nonevent', 'nonevent', 'Ia',\n",
       "       'nonevent', 'nonevent', 'II', 'nonevent', 'nonevent', 'nonevent',\n",
       "       'nonevent', 'II', 'II', 'Ib', 'nonevent', 'nonevent', 'nonevent',\n",
       "       'II', 'nonevent', 'nonevent', 'nonevent', 'nonevent', 'nonevent',\n",
       "       'Ib', 'II', 'nonevent', 'nonevent', 'nonevent', 'nonevent',\n",
       "       'nonevent', 'Ib', 'II', 'II', 'nonevent', 'nonevent', 'II',\n",
       "       'nonevent', 'nonevent', 'II', 'nonevent', 'nonevent', 'Ia',\n",
       "       'nonevent', 'nonevent', 'nonevent', 'Ia', 'II', 'nonevent', 'II',\n",
       "       'II', 'II', 'II', 'Ib', 'nonevent', 'II', 'Ib', 'Ia', 'nonevent',\n",
       "       'Ib', 'nonevent', 'nonevent', 'Ib', 'nonevent', 'Ib', 'II',\n",
       "       'nonevent', 'Ia', 'nonevent', 'nonevent', 'nonevent', 'II',\n",
       "       'nonevent', 'nonevent', 'nonevent', 'II', 'nonevent', 'nonevent',\n",
       "       'nonevent', 'II', 'II', 'II', 'Ib', 'nonevent', 'nonevent', 'II',\n",
       "       'nonevent', 'II', 'Ia', 'nonevent', 'nonevent', 'nonevent',\n",
       "       'nonevent', 'nonevent', 'nonevent', 'nonevent', 'nonevent', 'Ib',\n",
       "       'Ib', 'II', 'II', 'nonevent', 'II', 'nonevent'], dtype=object)"
      ]
     },
     "metadata": {},
     "execution_count": 53
    }
   ],
   "source": [
    "# Create predictions for hidden data\n",
    "X_hidden = np.array(df_hidden.drop(columns=[\"class4\"]))\n",
    "y_pred_hidden = lrm.predict(X_hidden)\n",
    "y_pred_hidden"
   ]
  },
  {
   "cell_type": "code",
   "execution_count": 54,
   "metadata": {},
   "outputs": [
    {
     "output_type": "execute_result",
     "data": {
      "text/plain": [
       "array([[7.38036379e-02, 1.92696709e-05, 1.38908144e-02, 9.12286278e-01],\n",
       "       [1.36029425e-01, 5.37345859e-01, 5.09018331e-02, 2.75722883e-01],\n",
       "       [4.81701703e-04, 2.91778994e-11, 4.89686960e-05, 9.99469330e-01],\n",
       "       [3.57319623e-01, 7.10753527e-02, 5.58471989e-01, 1.31330353e-02],\n",
       "       [7.05942135e-02, 2.38107316e-02, 6.19912824e-02, 8.43603773e-01]])"
      ]
     },
     "metadata": {},
     "execution_count": 54
    }
   ],
   "source": [
    "# Predict probabilities for the classes\n",
    "\n",
    "y_proba_hidden = lrm.predict_proba(X_hidden)\n",
    "y_proba_hidden[0:5]"
   ]
  },
  {
   "cell_type": "code",
   "execution_count": 56,
   "metadata": {},
   "outputs": [
    {
     "output_type": "execute_result",
     "data": {
      "text/plain": [
       "array(['II', 'Ia', 'Ib', 'nonevent'], dtype=object)"
      ]
     },
     "metadata": {},
     "execution_count": 56
    }
   ],
   "source": [
    "lrm.classes_"
   ]
  },
  {
   "cell_type": "code",
   "execution_count": 60,
   "metadata": {},
   "outputs": [],
   "source": [
    "# class indices based on the order of the classes in model above\n",
    "\n",
    "classes = {\"II\": 0, \"Ia\": 1, \"Ib\": 2, \"nonevent\": 3}"
   ]
  },
  {
   "cell_type": "code",
   "execution_count": 61,
   "metadata": {},
   "outputs": [],
   "source": [
    "# Create the prediction data for answer\n",
    "\n",
    "results = []\n",
    "\n",
    "for i in range(len(y_pred_hidden)):\n",
    "    pred = y_pred_hidden[i]\n",
    "    results.append([pred, round(y_proba_hidden[i][classes[pred]], 4)])"
   ]
  },
  {
   "cell_type": "code",
   "execution_count": 62,
   "metadata": {},
   "outputs": [
    {
     "output_type": "execute_result",
     "data": {
      "text/plain": [
       "[['nonevent', 0.9123],\n",
       " ['Ia', 0.5373],\n",
       " ['nonevent', 0.9995],\n",
       " ['Ib', 0.5585],\n",
       " ['nonevent', 0.8436],\n",
       " ['Ib', 0.3949],\n",
       " ['II', 0.4906],\n",
       " ['II', 0.6009],\n",
       " ['nonevent', 0.429],\n",
       " ['Ib', 0.4881],\n",
       " ['Ib', 0.4988],\n",
       " ['II', 0.7362],\n",
       " ['II', 0.3969],\n",
       " ['II', 0.6555],\n",
       " ['II', 0.5352],\n",
       " ['II', 0.4986],\n",
       " ['II', 0.8061],\n",
       " ['nonevent', 0.9828],\n",
       " ['nonevent', 0.9925],\n",
       " ['II', 0.8631]]"
      ]
     },
     "metadata": {},
     "execution_count": 62
    }
   ],
   "source": [
    "# Check that the data looks ok\n",
    "results[0:20]"
   ]
  },
  {
   "cell_type": "code",
   "execution_count": 76,
   "metadata": {},
   "outputs": [],
   "source": [
    "# Create the answers.csv file\n",
    "\n",
    "with open('../data/answers.csv', 'w', newline='') as answers:\n",
    "    wr = csv.writer(answers, quoting=csv.QUOTE_ALL)\n",
    "    # First line is the predicted accuracy\n",
    "    wr.writerow([acc_rounded])\n",
    "    # class4,p\n",
    "    wr.writerow(['class4','p'])\n",
    "    # Class4, prediction for every instance\n",
    "    for i in range(len(results)):\n",
    "        wr.writerow(results[i])"
   ]
  },
  {
   "cell_type": "code",
   "execution_count": 79,
   "metadata": {},
   "outputs": [
    {
     "name": "stdout",
     "output_type": "stream",
     "text": [
      "[[46 10]\n",
      " [ 8 44]]\n"
     ]
    }
   ],
   "source": [
    "# Support Vector Machine\n",
    "y = np.array(df[\"class2\"])\n",
    "X = np.array(df.drop(columns=[\"class4\", \"class2\"]))\n",
    "\n",
    "X_train, X_test, y_train, y_test = train_test_split(X, y, test_size = 0.25, random_state = rs)\n",
    "\n",
    "svclassifier = SVC(kernel='linear')\n",
    "svclassifier.fit(X_train, y_train)\n",
    "\n",
    "y_pred = svclassifier.predict(X_test)\n",
    "print(confusion_matrix(y_test,y_pred))"
   ]
  },
  {
   "cell_type": "code",
   "execution_count": 80,
   "metadata": {
    "scrolled": true
   },
   "outputs": [
    {
     "name": "stdout",
     "output_type": "stream",
     "text": [
      "              precision    recall  f1-score   support\n",
      "\n",
      "           0       0.85      0.82      0.84        56\n",
      "           1       0.81      0.85      0.83        52\n",
      "\n",
      "    accuracy                           0.83       108\n",
      "   macro avg       0.83      0.83      0.83       108\n",
      "weighted avg       0.83      0.83      0.83       108\n",
      "\n"
     ]
    }
   ],
   "source": [
    "print(classification_report(y_test,y_pred))"
   ]
  },
  {
   "cell_type": "code",
   "execution_count": 81,
   "metadata": {},
   "outputs": [
    {
     "data": {
      "text/plain": [
       "0.8333333333333334"
      ]
     },
     "execution_count": 81,
     "metadata": {},
     "output_type": "execute_result"
    }
   ],
   "source": [
    "accuracy(y_pred, y_test)"
   ]
  },
  {
   "cell_type": "code",
   "execution_count": null,
   "metadata": {},
   "outputs": [],
   "source": []
  },
  {
   "cell_type": "code",
   "execution_count": null,
   "metadata": {},
   "outputs": [],
   "source": []
  }
 ],
 "metadata": {
  "kernelspec": {
   "display_name": "Python 3",
   "language": "python",
   "name": "python3"
  },
  "language_info": {
   "codemirror_mode": {
    "name": "ipython",
    "version": 3
   },
   "file_extension": ".py",
   "mimetype": "text/x-python",
   "name": "python",
   "nbconvert_exporter": "python",
   "pygments_lexer": "ipython3",
   "version": "3.8.5-final"
  }
 },
 "nbformat": 4,
 "nbformat_minor": 4
}